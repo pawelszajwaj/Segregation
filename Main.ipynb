{
  "nbformat": 4,
  "nbformat_minor": 0,
  "metadata": {
    "colab": {
      "provenance": [],
      "authorship_tag": "ABX9TyMO/NjnEGGmNLg893ds+ZlD",
      "include_colab_link": true
    },
    "kernelspec": {
      "name": "python3",
      "display_name": "Python 3"
    },
    "language_info": {
      "name": "python"
    }
  },
  "cells": [
    {
      "cell_type": "markdown",
      "metadata": {
        "id": "view-in-github",
        "colab_type": "text"
      },
      "source": [
        "<a href=\"https://colab.research.google.com/github/pawelszajwaj/Segregation/blob/main/Main.ipynb\" target=\"_parent\"><img src=\"https://colab.research.google.com/assets/colab-badge.svg\" alt=\"Open In Colab\"/></a>"
      ]
    },
    {
      "cell_type": "markdown",
      "source": [
        "Pobranie z githuba plików audio"
      ],
      "metadata": {
        "id": "31XeMmT8sQJa"
      }
    },
    {
      "cell_type": "code",
      "execution_count": 1,
      "metadata": {
        "id": "hLLNf6x3o1kA",
        "colab": {
          "base_uri": "https://localhost:8080/"
        },
        "outputId": "48fe4c64-d84e-435f-9b0e-308d03739b45"
      },
      "outputs": [
        {
          "output_type": "stream",
          "name": "stdout",
          "text": [
            "Cloning into 'Segregation'...\n",
            "remote: Enumerating objects: 544, done.\u001b[K\n",
            "remote: Counting objects: 100% (149/149), done.\u001b[K\n",
            "remote: Compressing objects: 100% (120/120), done.\u001b[K\n",
            "remote: Total 544 (delta 39), reused 101 (delta 27), pack-reused 395\u001b[K\n",
            "Receiving objects: 100% (544/544), 809.96 MiB | 26.18 MiB/s, done.\n",
            "Resolving deltas: 100% (111/111), done.\n",
            "Updating files: 100% (79/79), done.\n"
          ]
        }
      ],
      "source": [
        "!git clone https://github.com/pawelszajwaj/Segregation.git"
      ]
    },
    {
      "cell_type": "code",
      "source": [
        "import pandas as pd\n",
        "import numpy as np\n",
        "import matplotlib.pylab as plt\n",
        "import seaborn as sns\n",
        "\n",
        "from glob import glob\n",
        "\n",
        "import librosa\n",
        "import librosa.display\n",
        "import IPython.display as ipd\n",
        "\n",
        "from itertools import cycle\n",
        "\n",
        "sns.set_theme(style=\"white\", palette=None)\n",
        "color_pal = plt.rcParams[\"axes.prop_cycle\"].by_key()[\"color\"]\n",
        "color_cycle = cycle(plt.rcParams[\"axes.prop_cycle\"].by_key()[\"color\"])"
      ],
      "metadata": {
        "id": "uWVyQBVqsVCQ"
      },
      "execution_count": 2,
      "outputs": []
    },
    {
      "cell_type": "code",
      "source": [
        "import tensorflow as tf\n",
        "import os"
      ],
      "metadata": {
        "id": "TCD6RgpD24cj"
      },
      "execution_count": 3,
      "outputs": []
    },
    {
      "cell_type": "code",
      "source": [
        "!pip install tensorflow-io\n",
        "import tensorflow_io as tfio"
      ],
      "metadata": {
        "colab": {
          "base_uri": "https://localhost:8080/"
        },
        "id": "regSeaaP3_TP",
        "outputId": "547f0e61-bcf0-46ef-dfba-9b3d9a3fc547"
      },
      "execution_count": 4,
      "outputs": [
        {
          "output_type": "stream",
          "name": "stdout",
          "text": [
            "Looking in indexes: https://pypi.org/simple, https://us-python.pkg.dev/colab-wheels/public/simple/\n",
            "Collecting tensorflow-io\n",
            "  Downloading tensorflow_io-0.31.0-cp39-cp39-manylinux_2_12_x86_64.manylinux2010_x86_64.whl (26.9 MB)\n",
            "\u001b[2K     \u001b[90m━━━━━━━━━━━━━━━━━━━━━━━━━━━━━━━━━━━━━━━━\u001b[0m \u001b[32m26.9/26.9 MB\u001b[0m \u001b[31m52.8 MB/s\u001b[0m eta \u001b[36m0:00:00\u001b[0m\n",
            "\u001b[?25hRequirement already satisfied: tensorflow-io-gcs-filesystem==0.31.0 in /usr/local/lib/python3.9/dist-packages (from tensorflow-io) (0.31.0)\n",
            "Installing collected packages: tensorflow-io\n",
            "Successfully installed tensorflow-io-0.31.0\n"
          ]
        }
      ]
    },
    {
      "cell_type": "code",
      "source": [
        "!mkdir AudioFiles\n",
        "!mkdir AudioFiles/Good\n",
        "!mkdir AudioFiles/Bad"
      ],
      "metadata": {
        "id": "QNOZTrwT1TlR"
      },
      "execution_count": 5,
      "outputs": []
    },
    {
      "cell_type": "code",
      "source": [
        "!unzip '/content/Segregation/AudioFiles/5seconds/Good/*.zip' -d '/content/AudioFiles/Good'\n",
        "!unzip '/content/Segregation/AudioFiles/5seconds/Bad/*.zip' -d '/content/AudioFiles/Bad'\n",
        "\n",
        "#if os.path.exists(\"/content/AudioFiles/Bad/13.1.21.wav\"):\n",
        "#  os.remove(\"/content/AudioFiles/Bad/13.1.21.wav\")\n",
        "\n"
      ],
      "metadata": {
        "colab": {
          "base_uri": "https://localhost:8080/"
        },
        "id": "vSm5hXYj1m0_",
        "outputId": "0a788ccd-53f0-415b-c36a-f568e614b1c8"
      },
      "execution_count": 6,
      "outputs": [
        {
          "output_type": "stream",
          "name": "stdout",
          "text": [
            "Archive:  /content/Segregation/AudioFiles/5seconds/Good/5_seconds_1-5.zip\n",
            "  inflating: /content/AudioFiles/Good/5.1.12.wav  \n",
            "  inflating: /content/AudioFiles/Good/1.1.1.wav  \n",
            "  inflating: /content/AudioFiles/Good/1.1.2.wav  \n",
            "  inflating: /content/AudioFiles/Good/1.1.3.wav  \n",
            "  inflating: /content/AudioFiles/Good/1.1.4.wav  \n",
            "  inflating: /content/AudioFiles/Good/1.1.5.wav  \n",
            "  inflating: /content/AudioFiles/Good/1.1.6.wav  \n",
            "  inflating: /content/AudioFiles/Good/1.1.7.wav  \n",
            "  inflating: /content/AudioFiles/Good/1.1.8.wav  \n",
            "  inflating: /content/AudioFiles/Good/1.1.9.wav  \n",
            "  inflating: /content/AudioFiles/Good/1.1.10.wav  \n",
            "  inflating: /content/AudioFiles/Good/1.1.11.wav  \n",
            "  inflating: /content/AudioFiles/Good/1.1.12.wav  \n",
            "  inflating: /content/AudioFiles/Good/2.1.1.wav  \n",
            "  inflating: /content/AudioFiles/Good/2.1.2.wav  \n",
            "  inflating: /content/AudioFiles/Good/2.1.3.wav  \n",
            "  inflating: /content/AudioFiles/Good/2.1.4.wav  \n",
            "  inflating: /content/AudioFiles/Good/2.1.5.wav  \n",
            "  inflating: /content/AudioFiles/Good/2.1.6.wav  \n",
            "  inflating: /content/AudioFiles/Good/2.1.7.wav  \n",
            "  inflating: /content/AudioFiles/Good/2.1.8.wav  \n",
            "  inflating: /content/AudioFiles/Good/2.1.9.wav  \n",
            "  inflating: /content/AudioFiles/Good/2.1.10.wav  \n",
            "  inflating: /content/AudioFiles/Good/2.1.11.wav  \n",
            "  inflating: /content/AudioFiles/Good/2.1.12.wav  \n",
            "  inflating: /content/AudioFiles/Good/3.1.1.wav  \n",
            "  inflating: /content/AudioFiles/Good/3.1.2.wav  \n",
            "  inflating: /content/AudioFiles/Good/3.1.3.wav  \n",
            "  inflating: /content/AudioFiles/Good/3.1.4.wav  \n",
            "  inflating: /content/AudioFiles/Good/3.1.5.wav  \n",
            "  inflating: /content/AudioFiles/Good/3.1.6.wav  \n",
            "  inflating: /content/AudioFiles/Good/3.1.7.wav  \n",
            "  inflating: /content/AudioFiles/Good/3.1.8.wav  \n",
            "  inflating: /content/AudioFiles/Good/3.1.9.wav  \n",
            "  inflating: /content/AudioFiles/Good/3.1.10.wav  \n",
            "  inflating: /content/AudioFiles/Good/3.1.11.wav  \n",
            "  inflating: /content/AudioFiles/Good/3.1.12.wav  \n",
            "  inflating: /content/AudioFiles/Good/4.1.1.wav  \n",
            "  inflating: /content/AudioFiles/Good/4.1.2.wav  \n",
            "  inflating: /content/AudioFiles/Good/4.1.3.wav  \n",
            "  inflating: /content/AudioFiles/Good/4.1.4.wav  \n",
            "  inflating: /content/AudioFiles/Good/4.1.5.wav  \n",
            "  inflating: /content/AudioFiles/Good/4.1.6.wav  \n",
            "  inflating: /content/AudioFiles/Good/4.1.7.wav  \n",
            "  inflating: /content/AudioFiles/Good/4.1.8.wav  \n",
            "  inflating: /content/AudioFiles/Good/4.1.9.wav  \n",
            "  inflating: /content/AudioFiles/Good/4.1.10.wav  \n",
            "  inflating: /content/AudioFiles/Good/4.1.11.wav  \n",
            "  inflating: /content/AudioFiles/Good/4.1.12.wav  \n",
            "  inflating: /content/AudioFiles/Good/5.1.1.wav  \n",
            "  inflating: /content/AudioFiles/Good/5.1.2.wav  \n",
            "  inflating: /content/AudioFiles/Good/5.1.3.wav  \n",
            "  inflating: /content/AudioFiles/Good/5.1.4.wav  \n",
            "  inflating: /content/AudioFiles/Good/5.1.5.wav  \n",
            "  inflating: /content/AudioFiles/Good/5.1.6.wav  \n",
            "  inflating: /content/AudioFiles/Good/5.1.7.wav  \n",
            "  inflating: /content/AudioFiles/Good/5.1.8.wav  \n",
            "  inflating: /content/AudioFiles/Good/5.1.9.wav  \n",
            "  inflating: /content/AudioFiles/Good/5.1.10.wav  \n",
            "  inflating: /content/AudioFiles/Good/5.1.11.wav  \n",
            "\n",
            "Archive:  /content/Segregation/AudioFiles/5seconds/Good/5_seconds_6-10.zip\n",
            "  inflating: /content/AudioFiles/Good/10.1.13.wav  \n",
            "  inflating: /content/AudioFiles/Good/6.1.1.wav  \n",
            "  inflating: /content/AudioFiles/Good/6.1.2.wav  \n",
            "  inflating: /content/AudioFiles/Good/6.1.3.wav  \n",
            "  inflating: /content/AudioFiles/Good/6.1.4.wav  \n",
            "  inflating: /content/AudioFiles/Good/6.1.5.wav  \n",
            "  inflating: /content/AudioFiles/Good/6.1.6.wav  \n",
            "  inflating: /content/AudioFiles/Good/6.1.7.wav  \n",
            "  inflating: /content/AudioFiles/Good/6.1.8.wav  \n",
            "  inflating: /content/AudioFiles/Good/6.1.9.wav  \n",
            "  inflating: /content/AudioFiles/Good/6.1.10.wav  \n",
            "  inflating: /content/AudioFiles/Good/6.1.11.wav  \n",
            "  inflating: /content/AudioFiles/Good/6.1.12.wav  \n",
            "  inflating: /content/AudioFiles/Good/7.1.1.wav  \n",
            "  inflating: /content/AudioFiles/Good/7.1.2.wav  \n",
            "  inflating: /content/AudioFiles/Good/7.1.3.wav  \n",
            "  inflating: /content/AudioFiles/Good/7.1.4.wav  \n",
            "  inflating: /content/AudioFiles/Good/7.1.5.wav  \n",
            "  inflating: /content/AudioFiles/Good/7.1.6.wav  \n",
            "  inflating: /content/AudioFiles/Good/7.1.7.wav  \n",
            "  inflating: /content/AudioFiles/Good/7.1.8.wav  \n",
            "  inflating: /content/AudioFiles/Good/7.1.9.wav  \n",
            "  inflating: /content/AudioFiles/Good/7.1.10.wav  \n",
            "  inflating: /content/AudioFiles/Good/7.1.11.wav  \n",
            "  inflating: /content/AudioFiles/Good/7.1.12.wav  \n",
            "  inflating: /content/AudioFiles/Good/7.1.13.wav  \n",
            "  inflating: /content/AudioFiles/Good/8.1.1.wav  \n",
            "  inflating: /content/AudioFiles/Good/8.1.2.wav  \n",
            "  inflating: /content/AudioFiles/Good/8.1.3.wav  \n",
            "  inflating: /content/AudioFiles/Good/8.1.4.wav  \n",
            "  inflating: /content/AudioFiles/Good/8.1.5.wav  \n",
            "  inflating: /content/AudioFiles/Good/8.1.6.wav  \n",
            "  inflating: /content/AudioFiles/Good/8.1.7.wav  \n",
            "  inflating: /content/AudioFiles/Good/8.1.8.wav  \n",
            "  inflating: /content/AudioFiles/Good/8.1.9.wav  \n",
            "  inflating: /content/AudioFiles/Good/8.1.10.wav  \n",
            "  inflating: /content/AudioFiles/Good/8.1.11.wav  \n",
            "  inflating: /content/AudioFiles/Good/8.1.12.wav  \n",
            "  inflating: /content/AudioFiles/Good/8.1.13.wav  \n",
            "  inflating: /content/AudioFiles/Good/9.1.1.wav  \n",
            "  inflating: /content/AudioFiles/Good/9.1.2.wav  \n",
            "  inflating: /content/AudioFiles/Good/9.1.3.wav  \n",
            "  inflating: /content/AudioFiles/Good/9.1.4.wav  \n",
            "  inflating: /content/AudioFiles/Good/9.1.5.wav  \n",
            "  inflating: /content/AudioFiles/Good/9.1.6.wav  \n",
            "  inflating: /content/AudioFiles/Good/9.1.7.wav  \n",
            "  inflating: /content/AudioFiles/Good/9.1.8.wav  \n",
            "  inflating: /content/AudioFiles/Good/9.1.9.wav  \n",
            "  inflating: /content/AudioFiles/Good/9.1.10.wav  \n",
            "  inflating: /content/AudioFiles/Good/9.1.11.wav  \n",
            "  inflating: /content/AudioFiles/Good/9.1.12.wav  \n",
            "  inflating: /content/AudioFiles/Good/10.1.1.wav  \n",
            "  inflating: /content/AudioFiles/Good/10.1.2.wav  \n",
            "  inflating: /content/AudioFiles/Good/10.1.3.wav  \n",
            "  inflating: /content/AudioFiles/Good/10.1.4.wav  \n",
            "  inflating: /content/AudioFiles/Good/10.1.5.wav  \n",
            "  inflating: /content/AudioFiles/Good/10.1.6.wav  \n",
            "  inflating: /content/AudioFiles/Good/10.1.7.wav  \n",
            "  inflating: /content/AudioFiles/Good/10.1.8.wav  \n",
            "  inflating: /content/AudioFiles/Good/10.1.9.wav  \n",
            "  inflating: /content/AudioFiles/Good/10.1.10.wav  \n",
            "  inflating: /content/AudioFiles/Good/10.1.11.wav  \n",
            "  inflating: /content/AudioFiles/Good/10.1.12.wav  \n",
            "\n",
            "2 archives were successfully processed.\n",
            "Archive:  /content/Segregation/AudioFiles/5seconds/Bad/5_seconds_21-23.zip\n",
            "  inflating: /content/AudioFiles/Bad/23.1.13.wav  \n",
            "  inflating: /content/AudioFiles/Bad/21.1.1.wav  \n",
            "  inflating: /content/AudioFiles/Bad/21.1.2.wav  \n",
            "  inflating: /content/AudioFiles/Bad/21.1.3.wav  \n",
            "  inflating: /content/AudioFiles/Bad/21.1.4.wav  \n",
            "  inflating: /content/AudioFiles/Bad/21.1.5.wav  \n",
            "  inflating: /content/AudioFiles/Bad/21.1.6.wav  \n",
            "  inflating: /content/AudioFiles/Bad/21.1.7.wav  \n",
            "  inflating: /content/AudioFiles/Bad/21.1.8.wav  \n",
            "  inflating: /content/AudioFiles/Bad/21.1.9.wav  \n",
            "  inflating: /content/AudioFiles/Bad/21.1.10.wav  \n",
            "  inflating: /content/AudioFiles/Bad/21.1.11.wav  \n",
            "  inflating: /content/AudioFiles/Bad/21.1.12.wav  \n",
            "  inflating: /content/AudioFiles/Bad/22.1.1.wav  \n",
            "  inflating: /content/AudioFiles/Bad/22.1.2.wav  \n",
            "  inflating: /content/AudioFiles/Bad/22.1.3.wav  \n",
            "  inflating: /content/AudioFiles/Bad/22.1.4.wav  \n",
            "  inflating: /content/AudioFiles/Bad/22.1.5.wav  \n",
            "  inflating: /content/AudioFiles/Bad/22.1.6.wav  \n",
            "  inflating: /content/AudioFiles/Bad/22.1.7.wav  \n",
            "  inflating: /content/AudioFiles/Bad/22.1.8.wav  \n",
            "  inflating: /content/AudioFiles/Bad/22.1.9.wav  \n",
            "  inflating: /content/AudioFiles/Bad/22.1.10.wav  \n",
            "  inflating: /content/AudioFiles/Bad/22.1.11.wav  \n",
            "  inflating: /content/AudioFiles/Bad/22.1.12.wav  \n",
            "  inflating: /content/AudioFiles/Bad/22.1.13.wav  \n",
            "  inflating: /content/AudioFiles/Bad/23.1.1.wav  \n",
            "  inflating: /content/AudioFiles/Bad/23.1.2.wav  \n",
            "  inflating: /content/AudioFiles/Bad/23.1.3.wav  \n",
            "  inflating: /content/AudioFiles/Bad/23.1.4.wav  \n",
            "  inflating: /content/AudioFiles/Bad/23.1.5.wav  \n",
            "  inflating: /content/AudioFiles/Bad/23.1.6.wav  \n",
            "  inflating: /content/AudioFiles/Bad/23.1.7.wav  \n",
            "  inflating: /content/AudioFiles/Bad/23.1.8.wav  \n",
            "  inflating: /content/AudioFiles/Bad/23.1.9.wav  \n",
            "  inflating: /content/AudioFiles/Bad/23.1.10.wav  \n",
            "  inflating: /content/AudioFiles/Bad/23.1.11.wav  \n",
            "  inflating: /content/AudioFiles/Bad/23.1.12.wav  \n",
            "\n",
            "Archive:  /content/Segregation/AudioFiles/5seconds/Bad/5_seconds_11-15.zip\n",
            "  inflating: /content/AudioFiles/Bad/15.1.12.wav  \n",
            "  inflating: /content/AudioFiles/Bad/11.1.1.wav  \n",
            "  inflating: /content/AudioFiles/Bad/11.1.2.wav  \n",
            "  inflating: /content/AudioFiles/Bad/11.1.3.wav  \n",
            "  inflating: /content/AudioFiles/Bad/11.1.4.wav  \n",
            "  inflating: /content/AudioFiles/Bad/11.1.5.wav  \n",
            "  inflating: /content/AudioFiles/Bad/11.1.6.wav  \n",
            "  inflating: /content/AudioFiles/Bad/11.1.7.wav  \n",
            "  inflating: /content/AudioFiles/Bad/11.1.8.wav  \n",
            "  inflating: /content/AudioFiles/Bad/11.1.9.wav  \n",
            "  inflating: /content/AudioFiles/Bad/11.1.10.wav  \n",
            "  inflating: /content/AudioFiles/Bad/11.1.11.wav  \n",
            "  inflating: /content/AudioFiles/Bad/11.1.12.wav  \n",
            "  inflating: /content/AudioFiles/Bad/12.1.1.wav  \n",
            "  inflating: /content/AudioFiles/Bad/12.1.2.wav  \n",
            "  inflating: /content/AudioFiles/Bad/12.1.3.wav  \n",
            "  inflating: /content/AudioFiles/Bad/12.1.4.wav  \n",
            "  inflating: /content/AudioFiles/Bad/12.1.5.wav  \n",
            "  inflating: /content/AudioFiles/Bad/12.1.6.wav  \n",
            "  inflating: /content/AudioFiles/Bad/12.1.7.wav  \n",
            "  inflating: /content/AudioFiles/Bad/12.1.8.wav  \n",
            "  inflating: /content/AudioFiles/Bad/12.1.9.wav  \n",
            "  inflating: /content/AudioFiles/Bad/12.1.10.wav  \n",
            "  inflating: /content/AudioFiles/Bad/12.1.11.wav  \n",
            "  inflating: /content/AudioFiles/Bad/12.1.12.wav  \n",
            "  inflating: /content/AudioFiles/Bad/13.1.1.wav  \n",
            "  inflating: /content/AudioFiles/Bad/13.1.2.wav  \n",
            "  inflating: /content/AudioFiles/Bad/13.1.3.wav  \n",
            "  inflating: /content/AudioFiles/Bad/13.1.4.wav  \n",
            "  inflating: /content/AudioFiles/Bad/13.1.5.wav  \n",
            "  inflating: /content/AudioFiles/Bad/13.1.6.wav  \n",
            "  inflating: /content/AudioFiles/Bad/13.1.7.wav  \n",
            "  inflating: /content/AudioFiles/Bad/13.1.8.wav  \n",
            "  inflating: /content/AudioFiles/Bad/13.1.9.wav  \n",
            "  inflating: /content/AudioFiles/Bad/13.1.10.wav  \n",
            "  inflating: /content/AudioFiles/Bad/13.1.11.wav  \n",
            "  inflating: /content/AudioFiles/Bad/13.1.12.wav  \n",
            "  inflating: /content/AudioFiles/Bad/14.1.1.wav  \n",
            "  inflating: /content/AudioFiles/Bad/14.1.2.wav  \n",
            "  inflating: /content/AudioFiles/Bad/14.1.3.wav  \n",
            "  inflating: /content/AudioFiles/Bad/14.1.4.wav  \n",
            "  inflating: /content/AudioFiles/Bad/14.1.5.wav  \n",
            "  inflating: /content/AudioFiles/Bad/14.1.6.wav  \n",
            "  inflating: /content/AudioFiles/Bad/14.1.7.wav  \n",
            "  inflating: /content/AudioFiles/Bad/14.1.8.wav  \n",
            "  inflating: /content/AudioFiles/Bad/14.1.9.wav  \n",
            "  inflating: /content/AudioFiles/Bad/14.1.10.wav  \n",
            "  inflating: /content/AudioFiles/Bad/14.1.11.wav  \n",
            "  inflating: /content/AudioFiles/Bad/14.1.12.wav  \n",
            "  inflating: /content/AudioFiles/Bad/14.1.13.wav  \n",
            "  inflating: /content/AudioFiles/Bad/15.1.1.wav  \n",
            "  inflating: /content/AudioFiles/Bad/15.1.2.wav  \n",
            "  inflating: /content/AudioFiles/Bad/15.1.3.wav  \n",
            "  inflating: /content/AudioFiles/Bad/15.1.4.wav  \n",
            "  inflating: /content/AudioFiles/Bad/15.1.5.wav  \n",
            "  inflating: /content/AudioFiles/Bad/15.1.6.wav  \n",
            "  inflating: /content/AudioFiles/Bad/15.1.7.wav  \n",
            "  inflating: /content/AudioFiles/Bad/15.1.8.wav  \n",
            "  inflating: /content/AudioFiles/Bad/15.1.9.wav  \n",
            "  inflating: /content/AudioFiles/Bad/15.1.10.wav  \n",
            "  inflating: /content/AudioFiles/Bad/15.1.11.wav  \n",
            "\n",
            "Archive:  /content/Segregation/AudioFiles/5seconds/Bad/5_seconds_16-20.zip\n",
            "  inflating: /content/AudioFiles/Bad/20.1.12.wav  \n",
            "  inflating: /content/AudioFiles/Bad/16.1.1.wav  \n",
            "  inflating: /content/AudioFiles/Bad/16.1.2.wav  \n",
            "  inflating: /content/AudioFiles/Bad/16.1.3.wav  \n",
            "  inflating: /content/AudioFiles/Bad/16.1.4.wav  \n",
            "  inflating: /content/AudioFiles/Bad/16.1.5.wav  \n",
            "  inflating: /content/AudioFiles/Bad/16.1.6.wav  \n",
            "  inflating: /content/AudioFiles/Bad/16.1.7.wav  \n",
            "  inflating: /content/AudioFiles/Bad/16.1.8.wav  \n",
            "  inflating: /content/AudioFiles/Bad/16.1.9.wav  \n",
            "  inflating: /content/AudioFiles/Bad/16.1.10.wav  \n",
            "  inflating: /content/AudioFiles/Bad/16.1.11.wav  \n",
            "  inflating: /content/AudioFiles/Bad/16.1.12.wav  \n",
            "  inflating: /content/AudioFiles/Bad/17.1.1.wav  \n",
            "  inflating: /content/AudioFiles/Bad/17.1.2.wav  \n",
            "  inflating: /content/AudioFiles/Bad/17.1.3.wav  \n",
            "  inflating: /content/AudioFiles/Bad/17.1.4.wav  \n",
            "  inflating: /content/AudioFiles/Bad/17.1.5.wav  \n",
            "  inflating: /content/AudioFiles/Bad/17.1.6.wav  \n",
            "  inflating: /content/AudioFiles/Bad/17.1.7.wav  \n",
            "  inflating: /content/AudioFiles/Bad/17.1.8.wav  \n",
            "  inflating: /content/AudioFiles/Bad/17.1.9.wav  \n",
            "  inflating: /content/AudioFiles/Bad/17.1.10.wav  \n",
            "  inflating: /content/AudioFiles/Bad/17.1.11.wav  \n",
            "  inflating: /content/AudioFiles/Bad/17.1.12.wav  \n",
            "  inflating: /content/AudioFiles/Bad/18.1.1.wav  \n",
            "  inflating: /content/AudioFiles/Bad/18.1.2.wav  \n",
            "  inflating: /content/AudioFiles/Bad/18.1.3.wav  \n",
            "  inflating: /content/AudioFiles/Bad/18.1.4.wav  \n",
            "  inflating: /content/AudioFiles/Bad/18.1.5.wav  \n",
            "  inflating: /content/AudioFiles/Bad/18.1.6.wav  \n",
            "  inflating: /content/AudioFiles/Bad/18.1.7.wav  \n",
            "  inflating: /content/AudioFiles/Bad/18.1.8.wav  \n",
            "  inflating: /content/AudioFiles/Bad/18.1.9.wav  \n",
            "  inflating: /content/AudioFiles/Bad/18.1.10.wav  \n",
            "  inflating: /content/AudioFiles/Bad/18.1.11.wav  \n",
            "  inflating: /content/AudioFiles/Bad/18.1.12.wav  \n",
            "  inflating: /content/AudioFiles/Bad/19.1.1.wav  \n",
            "  inflating: /content/AudioFiles/Bad/19.1.2.wav  \n",
            "  inflating: /content/AudioFiles/Bad/19.1.3.wav  \n",
            "  inflating: /content/AudioFiles/Bad/19.1.4.wav  \n",
            "  inflating: /content/AudioFiles/Bad/19.1.5.wav  \n",
            "  inflating: /content/AudioFiles/Bad/19.1.6.wav  \n",
            "  inflating: /content/AudioFiles/Bad/19.1.7.wav  \n",
            "  inflating: /content/AudioFiles/Bad/19.1.8.wav  \n",
            "  inflating: /content/AudioFiles/Bad/19.1.9.wav  \n",
            "  inflating: /content/AudioFiles/Bad/19.1.10.wav  \n",
            "  inflating: /content/AudioFiles/Bad/19.1.11.wav  \n",
            "  inflating: /content/AudioFiles/Bad/19.1.12.wav  \n",
            "  inflating: /content/AudioFiles/Bad/20.1.1.wav  \n",
            "  inflating: /content/AudioFiles/Bad/20.1.2.wav  \n",
            "  inflating: /content/AudioFiles/Bad/20.1.3.wav  \n",
            "  inflating: /content/AudioFiles/Bad/20.1.4.wav  \n",
            "  inflating: /content/AudioFiles/Bad/20.1.5.wav  \n",
            "  inflating: /content/AudioFiles/Bad/20.1.6.wav  \n",
            "  inflating: /content/AudioFiles/Bad/20.1.7.wav  \n",
            "  inflating: /content/AudioFiles/Bad/20.1.8.wav  \n",
            "  inflating: /content/AudioFiles/Bad/20.1.9.wav  \n",
            "  inflating: /content/AudioFiles/Bad/20.1.10.wav  \n",
            "  inflating: /content/AudioFiles/Bad/20.1.11.wav  \n",
            "\n",
            "3 archives were successfully processed.\n"
          ]
        }
      ]
    },
    {
      "cell_type": "code",
      "source": [
        "audio_files = glob('/content/AudioFiles/*/*.wav')\n",
        "audio_files_good = glob('/content/AudioFiles/Good/*.wav')\n",
        "audio_files_bad = glob('/content/AudioFiles/Bad/*.wav')"
      ],
      "metadata": {
        "id": "7FzZcWf7srvb"
      },
      "execution_count": 7,
      "outputs": []
    },
    {
      "cell_type": "code",
      "source": [
        "def load_wav_16k_mono(filename):\n",
        "  file_contents = tf.io.read_file(filename)\n",
        "  wav, sample_rate = tf.audio.decode_wav(file_contents, desired_channels=1)\n",
        "  wav = tf.squeeze(wav, axis=-1)\n",
        "  sample_rate = tf.cast(sample_rate, dtype = tf.int64)\n",
        "  wav = tfio.audio.resample(wav, rate_in=sample_rate, rate_out=16000)\n",
        "  return wav"
      ],
      "metadata": {
        "id": "vplsPxzA3TBd"
      },
      "execution_count": 8,
      "outputs": []
    },
    {
      "cell_type": "code",
      "source": [
        "wav = load_wav_16k_mono(audio_files_bad[0])\n",
        "wav = load_wav_16k_mono(audio_files_good[0])\n",
        "plt.plot(wav.numpy())"
      ],
      "metadata": {
        "id": "PflUEIpZ4cDv",
        "outputId": "cad5dbf8-e4ba-443a-f293-4533642744e9",
        "colab": {
          "base_uri": "https://localhost:8080/",
          "height": 285
        }
      },
      "execution_count": 9,
      "outputs": [
        {
          "output_type": "execute_result",
          "data": {
            "text/plain": [
              "[<matplotlib.lines.Line2D at 0x7f6d680c3820>]"
            ]
          },
          "metadata": {},
          "execution_count": 9
        },
        {
          "output_type": "display_data",
          "data": {
            "text/plain": [
              "<Figure size 432x288 with 1 Axes>"
            ],
            "image/png": "[encoded data removed]"
          },
          "metadata": {}
        }
      ]
    },
    {
      "cell_type": "code",
      "source": [
        "wav = tf.cast(wav, tf.float32)\n",
        "plt.figure()\n",
        "plt.plot(wav.numpy())"
      ],
      "metadata": {
        "colab": {
          "base_uri": "https://localhost:8080/",
          "height": 285
        },
        "id": "qtAyWxk8547w",
        "outputId": "bfe5b3f6-c9dc-4b39-e993-d1aecacf7811"
      },
      "execution_count": 10,
      "outputs": [
        {
          "output_type": "execute_result",
          "data": {
            "text/plain": [
              "[<matplotlib.lines.Line2D at 0x7f6d58f622b0>]"
            ]
          },
          "metadata": {},
          "execution_count": 10
        },
        {
          "output_type": "display_data",
          "data": {
            "text/plain": [
              "<Figure size 432x288 with 1 Axes>"
            ],
            "image/png": "[encoded data removed]"
          },
          "metadata": {}
        }
      ]
    },
    {
      "cell_type": "code",
      "source": [
        "spectrogram = tfio.audio.spectrogram(\n",
        "    wav, nfft=512, window=512, stride=256)\n",
        "plt.figure()\n",
        "plt.imshow(tf.math.log(spectrogram).numpy())"
      ],
      "metadata": {
        "colab": {
          "base_uri": "https://localhost:8080/",
          "height": 288
        },
        "id": "VIEUwGd57tT5",
        "outputId": "f33c3849-684d-4056-decb-78f7c1fb3ab0"
      },
      "execution_count": 11,
      "outputs": [
        {
          "output_type": "execute_result",
          "data": {
            "text/plain": [
              "<matplotlib.image.AxesImage at 0x7f6d58ecaa30>"
            ]
          },
          "metadata": {},
          "execution_count": 11
        },
        {
          "output_type": "display_data",
          "data": {
            "text/plain": [
              "<Figure size 432x288 with 1 Axes>"
            ],
            "image/png": "[encoded data removed]"
          },
          "metadata": {}
        }
      ]
    },
    {
      "cell_type": "code",
      "source": [
        "mel_spectrogram = tfio.audio.melscale(\n",
        "  spectrogram, rate=16000, mels=128, fmin=0, fmax=8000)\n",
        "dbscale_mel_spectrogram = tfio.audio.dbscale(\n",
        "  mel_spectrogram, top_db=80)\n",
        "\n",
        "plt.figure()\n",
        "plt.imshow(tf.math.log(mel_spectrogram).numpy())\n",
        "\n",
        "plt.figure()\n",
        "plt.imshow(dbscale_mel_spectrogram.numpy())"
      ],
      "metadata": {
        "colab": {
          "base_uri": "https://localhost:8080/",
          "height": 542
        },
        "id": "lyfHLhlh7buh",
        "outputId": "a46f723b-5bb9-4321-9f8a-7411bd64932c"
      },
      "execution_count": 12,
      "outputs": [
        {
          "output_type": "execute_result",
          "data": {
            "text/plain": [
              "<matplotlib.image.AxesImage at 0x7f6d5929e790>"
            ]
          },
          "metadata": {},
          "execution_count": 12
        },
        {
          "output_type": "display_data",
          "data": {
            "text/plain": [
              "<Figure size 432x288 with 1 Axes>"
            ],
            "image/png": "[encoded data removed]"
          },
          "metadata": {}
        },
        {
          "output_type": "display_data",
          "data": {
            "text/plain": [
              "<Figure size 432x288 with 1 Axes>"
            ],
            "image/png": "[encoded data removed]"
          },
          "metadata": {}
        }
      ]
    },
    {
      "cell_type": "code",
      "source": [
        "good = tf.data.Dataset.list_files('/content/AudioFiles/Good/*.wav')\n",
        "bad = tf.data.Dataset.list_files('/content/AudioFiles/Bad/*.wav')\n",
        "good.as_numpy_iterator().next()"
      ],
      "metadata": {
        "id": "dmKSTNmG5KUT",
        "outputId": "fc819e2e-19be-47c8-e294-4f7da149c243",
        "colab": {
          "base_uri": "https://localhost:8080/"
        }
      },
      "execution_count": 13,
      "outputs": [
        {
          "output_type": "execute_result",
          "data": {
            "text/plain": [
              "b'/content/AudioFiles/Good/3.1.12.wav'"
            ]
          },
          "metadata": {},
          "execution_count": 13
        }
      ]
    },
    {
      "cell_type": "code",
      "source": [
        "positives = tf.data.Dataset.zip((good, tf.data.Dataset.from_tensor_slices(tf.ones(len(good)))))\n",
        "negatives = tf.data.Dataset.zip((bad, tf.data.Dataset.from_tensor_slices(tf.zeros(len(good)))))\n",
        "data = positives.concatenate(negatives)\n",
        "data.shuffle(1000).as_numpy_iterator().next()"
      ],
      "metadata": {
        "id": "TBVn_NEo6DZn",
        "outputId": "9a8687a7-a689-4656-e592-d4e770e66d02",
        "colab": {
          "base_uri": "https://localhost:8080/"
        }
      },
      "execution_count": 14,
      "outputs": [
        {
          "output_type": "execute_result",
          "data": {
            "text/plain": [
              "(b'/content/AudioFiles/Good/6.1.11.wav', 1.0)"
            ]
          },
          "metadata": {},
          "execution_count": 14
        }
      ]
    },
    {
      "cell_type": "code",
      "source": [
        "def preprocess(file_path, label):\n",
        "  wav = load_wav_16k_mono(file_path)\n",
        "  wav = tf.cast(wav, tf.float32)\n",
        "  spectrogram = tfio.audio.spectrogram(\n",
        "    wav, nfft=512, window=512, stride=256)\n",
        "  spectrogram = tf.abs(spectrogram)\n",
        "  mel_spectrogram = tfio.audio.melscale(\n",
        "    spectrogram, rate=16000, mels=128, fmin=0, fmax=8000)\n",
        "  dbscale_mel_spectrogram = tfio.audio.dbscale(\n",
        "    mel_spectrogram, top_db=80)\n",
        "  dbscale_mel_spectrogram = tf.expand_dims(dbscale_mel_spectrogram, axis=2)\n",
        "  return dbscale_mel_spectrogram, label"
      ],
      "metadata": {
        "id": "lA1TmvBM7FjU"
      },
      "execution_count": 15,
      "outputs": []
    },
    {
      "cell_type": "code",
      "source": [
        "data = data.map(preprocess)\n",
        "data = data.cache()\n",
        "data = data.shuffle(buffer_size=1000)\n",
        "data = data.batch(16)\n",
        "data = data.prefetch(8)"
      ],
      "metadata": {
        "id": "e72dGh0L75gC",
        "outputId": "d6cee975-c839-48c1-e50b-7840ec5ee72d",
        "colab": {
          "base_uri": "https://localhost:8080/"
        }
      },
      "execution_count": 16,
      "outputs": [
        {
          "output_type": "stream",
          "name": "stderr",
          "text": [
            "WARNING:tensorflow:From /usr/local/lib/python3.9/dist-packages/tensorflow/python/autograph/pyct/static_analysis/liveness.py:83: Analyzer.lamba_check (from tensorflow.python.autograph.pyct.static_analysis.liveness) is deprecated and will be removed after 2023-09-23.\n",
            "Instructions for updating:\n",
            "Lambda fuctions will be no more assumed to be used in the statement where they are used, or at least in the same block. https://github.com/tensorflow/tensorflow/issues/56089\n",
            "WARNING:tensorflow:Using a while_loop for converting IO>AudioResample cause there is no registered converter for this op.\n"
          ]
        }
      ]
    },
    {
      "cell_type": "code",
      "source": [
        "print(len(data))\n",
        "train = data.take(10)\n",
        "test = data.skip(10).take(6)"
      ],
      "metadata": {
        "id": "izw3I9qM8Tlm",
        "colab": {
          "base_uri": "https://localhost:8080/"
        },
        "outputId": "15afab14-4e98-44ad-a589-7527b6c3582b"
      },
      "execution_count": 21,
      "outputs": [
        {
          "output_type": "stream",
          "name": "stdout",
          "text": [
            "16\n"
          ]
        }
      ]
    },
    {
      "cell_type": "code",
      "source": [
        "samples, labels = train.as_numpy_iterator().next()"
      ],
      "metadata": {
        "id": "Wj8o6QDj8p5i"
      },
      "execution_count": 22,
      "outputs": []
    },
    {
      "cell_type": "code",
      "source": [
        "samples.shape"
      ],
      "metadata": {
        "id": "XWHdTJTW8t7A",
        "colab": {
          "base_uri": "https://localhost:8080/"
        },
        "outputId": "5e26007e-8189-40d6-92b7-1e2b76ff8d61"
      },
      "execution_count": 23,
      "outputs": [
        {
          "output_type": "execute_result",
          "data": {
            "text/plain": [
              "(16, 313, 128, 1)"
            ]
          },
          "metadata": {},
          "execution_count": 23
        }
      ]
    },
    {
      "cell_type": "code",
      "source": [
        "labels"
      ],
      "metadata": {
        "id": "e8cqE-La832x",
        "colab": {
          "base_uri": "https://localhost:8080/"
        },
        "outputId": "32a6e9d0-5313-421f-c7cc-3cd928a9ff06"
      },
      "execution_count": null,
      "outputs": [
        {
          "output_type": "execute_result",
          "data": {
            "text/plain": [
              "array([1., 0., 1., 1., 1., 0., 0., 0., 1., 1., 1., 1., 0., 0., 0., 1.],\n",
              "      dtype=float32)"
            ]
          },
          "metadata": {},
          "execution_count": 20
        }
      ]
    },
    {
      "cell_type": "code",
      "source": [
        "from tensorflow.keras.models import Sequential\n",
        "from tensorflow.keras.layers import Dense, Flatten, Conv2D, Dropout"
      ],
      "metadata": {
        "id": "M3Mg0flrSEKZ"
      },
      "execution_count": 24,
      "outputs": []
    },
    {
      "cell_type": "code",
      "source": [
        "model = Sequential()\n",
        "model.add(Conv2D(16, (3,3), activation='relu', input_shape=(313, 128, 1)))\n",
        "model.add(Conv2D(16, (3,3), activation='relu'))\n",
        "model.add(Flatten())\n",
        "model.add(Dense(128, activation='relu'))\n",
        "model.add(Dense(1, activation='sigmoid'))"
      ],
      "metadata": {
        "id": "le0y2tEQSsW2"
      },
      "execution_count": 25,
      "outputs": []
    },
    {
      "cell_type": "code",
      "source": [
        "model.compile(\"Adam\", loss='BinaryCrossentropy', metrics=[tf.keras.metrics.Recall(), tf.keras.metrics.Precision()])"
      ],
      "metadata": {
        "id": "ALQz84ZUThgO"
      },
      "execution_count": 26,
      "outputs": []
    },
    {
      "cell_type": "code",
      "source": [
        "model.summary()"
      ],
      "metadata": {
        "id": "CzfHaTQyTxbY",
        "colab": {
          "base_uri": "https://localhost:8080/"
        },
        "outputId": "7eb56da3-5bee-40ec-a5f7-e88911d34b93"
      },
      "execution_count": 27,
      "outputs": [
        {
          "output_type": "stream",
          "name": "stdout",
          "text": [
            "Model: \"sequential\"\n",
            "_________________________________________________________________\n",
            " Layer (type)                Output Shape              Param #   \n",
            "=================================================================\n",
            " conv2d (Conv2D)             (None, 311, 126, 16)      160       \n",
            "                                                                 \n",
            " conv2d_1 (Conv2D)           (None, 309, 124, 16)      2320      \n",
            "                                                                 \n",
            " flatten (Flatten)           (None, 613056)            0         \n",
            "                                                                 \n",
            " dense (Dense)               (None, 128)               78471296  \n",
            "                                                                 \n",
            " dense_1 (Dense)             (None, 1)                 129       \n",
            "                                                                 \n",
            "=================================================================\n",
            "Total params: 78,473,905\n",
            "Trainable params: 78,473,905\n",
            "Non-trainable params: 0\n",
            "_________________________________________________________________\n"
          ]
        }
      ]
    },
    {
      "cell_type": "code",
      "source": [
        "hist = model.fit(train, epochs=3, validation_data=test)"
      ],
      "metadata": {
        "colab": {
          "base_uri": "https://localhost:8080/"
        },
        "id": "00bqTLFGT5HW",
        "outputId": "3c3befb5-cb35-4613-92d1-88e60be14ca6"
      },
      "execution_count": 28,
      "outputs": [
        {
          "output_type": "stream",
          "name": "stdout",
          "text": [
            "Epoch 1/4\n",
            "10/10 [==============================] - 30s 3s/step - loss: 528.0062 - recall: 0.5882 - precision: 0.5556 - val_loss: 61.0547 - val_recall: 1.0000 - val_precision: 0.5375\n",
            "Epoch 2/4\n",
            "10/10 [==============================] - 25s 3s/step - loss: 8.9795 - recall: 0.6027 - precision: 0.6875 - val_loss: 0.0700 - val_recall: 0.9333 - val_precision: 1.0000\n",
            "Epoch 3/4\n",
            "10/10 [==============================] - 27s 3s/step - loss: 0.0772 - recall: 0.9767 - precision: 0.9545 - val_loss: 0.0198 - val_recall: 0.9767 - val_precision: 1.0000\n",
            "Epoch 4/4\n",
            "10/10 [==============================] - 24s 2s/step - loss: 0.0260 - recall: 0.9639 - precision: 1.0000 - val_loss: 0.0223 - val_recall: 0.9773 - val_precision: 1.0000\n"
          ]
        }
      ]
    },
    {
      "cell_type": "code",
      "source": [
        "plt.title(\"Loss\")\n",
        "plt.plot(hist.history['loss'], 'r')\n",
        "plt.plot(hist.history['val_loss'],'b')\n",
        "plt.show()"
      ],
      "metadata": {
        "colab": {
          "base_uri": "https://localhost:8080/",
          "height": 284
        },
        "id": "Iw7vKWg6Ua46",
        "outputId": "b0a2c6b0-54e6-4753-fc29-e1302f312efb"
      },
      "execution_count": 29,
      "outputs": [
        {
          "output_type": "display_data",
          "data": {
            "text/plain": [
              "<Figure size 432x288 with 1 Axes>"
            ],
            "image/png": "[encoded data removed]"
          },
          "metadata": {}
        }
      ]
    },
    {
      "cell_type": "code",
      "source": [
        "plt.title(\"Precision\")\n",
        "plt.plot(hist.history['precision'], 'r')\n",
        "plt.plot(hist.history['val_precision'],'b')\n",
        "plt.show()"
      ],
      "metadata": {
        "colab": {
          "base_uri": "https://localhost:8080/",
          "height": 284
        },
        "id": "r33AwxtfUugR",
        "outputId": "0c631655-9ca7-4675-e1fc-d5b43c9239ad"
      },
      "execution_count": 30,
      "outputs": [
        {
          "output_type": "display_data",
          "data": {
            "text/plain": [
              "<Figure size 432x288 with 1 Axes>"
            ],
            "image/png": "[encoded data removed]"
          },
          "metadata": {}
        }
      ]
    },
    {
      "cell_type": "code",
      "source": [
        "plt.title(\"Recall\")\n",
        "plt.plot(hist.history['recall'], 'r')\n",
        "plt.plot(hist.history['val_recall'],'b')\n",
        "plt.show()"
      ],
      "metadata": {
        "colab": {
          "base_uri": "https://localhost:8080/",
          "height": 284
        },
        "id": "OeG8kc_RU18c",
        "outputId": "817f49c9-98a9-4f03-8f66-cb76cb11cab4"
      },
      "execution_count": 31,
      "outputs": [
        {
          "output_type": "display_data",
          "data": {
            "text/plain": [
              "<Figure size 432x288 with 1 Axes>"
            ],
            "image/png": "[encoded data removed]"
          },
          "metadata": {}
        }
      ]
    },
    {
      "cell_type": "code",
      "source": [
        "# WIELKI TEST\n",
        "X_test, y_test = test.as_numpy_iterator().next()"
      ],
      "metadata": {
        "id": "IFxcWlLmVHj2"
      },
      "execution_count": 32,
      "outputs": []
    },
    {
      "cell_type": "code",
      "source": [
        "yhat = model.predict(X_test)"
      ],
      "metadata": {
        "id": "cQFzWo3DVO_H",
        "outputId": "f749c035-e47d-40a7-bac4-a0a25bd46f4e",
        "colab": {
          "base_uri": "https://localhost:8080/"
        }
      },
      "execution_count": 33,
      "outputs": [
        {
          "output_type": "stream",
          "name": "stdout",
          "text": [
            "1/1 [==============================] - 0s 349ms/step\n"
          ]
        }
      ]
    },
    {
      "cell_type": "code",
      "source": [
        "yhat"
      ],
      "metadata": {
        "id": "NzdeAQoCVZZR",
        "outputId": "0feecf3e-cf8c-424d-de90-2ed384c59e01",
        "colab": {
          "base_uri": "https://localhost:8080/"
        }
      },
      "execution_count": 34,
      "outputs": [
        {
          "output_type": "execute_result",
          "data": {
            "text/plain": [
              "array([[1.1610431e-11],\n",
              "       [2.7547368e-28],\n",
              "       [2.6993445e-20],\n",
              "       [9.9999994e-01],\n",
              "       [2.5753836e-05],\n",
              "       [1.2312714e-35],\n",
              "       [3.3550328e-01],\n",
              "       [0.0000000e+00],\n",
              "       [9.9880159e-01],\n",
              "       [9.9931055e-01],\n",
              "       [1.0000000e+00],\n",
              "       [9.9993289e-01],\n",
              "       [9.9999875e-01],\n",
              "       [9.9994427e-01],\n",
              "       [9.9999976e-01],\n",
              "       [9.9999309e-01]], dtype=float32)"
            ]
          },
          "metadata": {},
          "execution_count": 34
        }
      ]
    },
    {
      "cell_type": "code",
      "source": [
        "y_test  ## ewidentnie przetretnowany"
      ],
      "metadata": {
        "id": "NPK4_iE7VSoo",
        "outputId": "85a5ea83-6195-499c-a659-421b31ee4408",
        "colab": {
          "base_uri": "https://localhost:8080/"
        }
      },
      "execution_count": 35,
      "outputs": [
        {
          "output_type": "execute_result",
          "data": {
            "text/plain": [
              "array([0., 0., 0., 1., 0., 0., 1., 0., 1., 1., 1., 1., 1., 1., 1., 1.],\n",
              "      dtype=float32)"
            ]
          },
          "metadata": {},
          "execution_count": 35
        }
      ]
    },
    {
      "cell_type": "code",
      "source": [
        "yhat = np.array(np.hstack(yhat), dtype=int)\n",
        "y_test = np.array(np.hstack(y_test), dtype=int)\n",
        "print(np.hstack(yhat))\n",
        "print(y_test)     # troche beznadziejnie  - czyzby z=samym audio sie nei dalo?\n",
        "             "
      ],
      "metadata": {
        "id": "6JSMACAley0l",
        "outputId": "bcf3d4e8-4dd9-4629-f264-cf4eabf3f620",
        "colab": {
          "base_uri": "https://localhost:8080/"
        }
      },
      "execution_count": 36,
      "outputs": [
        {
          "output_type": "stream",
          "name": "stdout",
          "text": [
            "[0 0 0 0 0 0 0 0 0 0 1 0 0 0 0 0]\n",
            "[0 0 0 1 0 0 1 0 1 1 1 1 1 1 1 1]\n"
          ]
        }
      ]
    },
    {
      "cell_type": "markdown",
      "source": [
        "# Tu sprawdzimy, czy inny podział ma sens. "
      ],
      "metadata": {
        "id": "W3Se1NZF9mKH"
      }
    },
    {
      "cell_type": "markdown",
      "source": [
        "Podzielimy dane na 2 rodzaje danych:\n",
        " - pierwsza grupa to te ewidetnie złe vs reszta \n",
        " - druga to to srednie vs te dobre. \n",
        " \n",
        "Podział zostanie przeprowadzony zgodnie z przyjetymi zalozeniami, tj. 1-10 dobre, 11-23 złe\n"
      ],
      "metadata": {
        "id": "cZQw3lQs90Hd"
      }
    },
    {
      "cell_type": "code",
      "source": [
        "!mkdir AudioFilesVar\n",
        "!mkdir AudioFilesVar/Good\n",
        "!mkdir AudioFilesVar/Bad\n",
        "!mkdir AudioFilesVar/Mid\n",
        "!mkdir AudioFilesVar/Good_and_Mid"
      ],
      "metadata": {
        "id": "WIAk_ZAx_hIp"
      },
      "execution_count": 37,
      "outputs": []
    },
    {
      "cell_type": "code",
      "source": [
        "!unzip '/content/Segregation/AudioFilesVar/5seconds/Good/*.zip' -d '/content/AudioFilesVar/Good'\n",
        "!unzip '/content/Segregation/AudioFilesVar/5seconds/Bad/*.zip' -d '/content/AudioFilesVar/Bad'\n",
        "!unzip '/content/Segregation/AudioFilesVar/5seconds/Mid/*.zip' -d '/content/AudioFilesVar/Mid'\n",
        "!unzip '/content/Segregation/AudioFilesVar/5seconds/Mid/*.zip' -d '/content/AudioFilesVar/Good_and_Mid'\n",
        "!unzip '/content/Segregation/AudioFilesVar/5seconds/Good/*.zip' -d '/content/AudioFilesVar/Good_and_Mid'\n",
        "\n",
        "\n",
        "if os.path.exists(\"/content/AudioFilesVar/Bad/13.1.21 - bad file!.wav\"):\n",
        "  os.remove(\"/content/AudioFilesVar/Bad/13.1.21 - bad file!.wav\")\n",
        "if os.path.exists(\"/content/AudioFilesVar/Mid/13.1.21 - bad file!.wav\"):\n",
        "  os.remove(\"/content/AudioFilesVar/Mid/13.1.21 - bad file!.wav\")\n",
        "if os.path.exists(\"/content/AudioFilesVar/Good_and_Mid/13.1.21 - bad file!.wav\"):\n",
        "  os.remove(\"/content/AudioFilesVar/Good_and_Mid/13.1.21 - bad file!.wav\")"
      ],
      "metadata": {
        "id": "QwXWWJN79yFw",
        "outputId": "86c9ef21-0035-44be-ca59-328692952465",
        "colab": {
          "base_uri": "https://localhost:8080/"
        }
      },
      "execution_count": 38,
      "outputs": [
        {
          "output_type": "stream",
          "name": "stdout",
          "text": [
            "Archive:  /content/Segregation/AudioFilesVar/5seconds/Good/5_seconds_1-5.zip\n",
            "  inflating: /content/AudioFilesVar/Good/5.1.12.wav  \n",
            "  inflating: /content/AudioFilesVar/Good/1.1.1.wav  \n",
            "  inflating: /content/AudioFilesVar/Good/1.1.2.wav  \n",
            "  inflating: /content/AudioFilesVar/Good/1.1.3.wav  \n",
            "  inflating: /content/AudioFilesVar/Good/1.1.4.wav  \n",
            "  inflating: /content/AudioFilesVar/Good/1.1.5.wav  \n",
            "  inflating: /content/AudioFilesVar/Good/1.1.6.wav  \n",
            "  inflating: /content/AudioFilesVar/Good/1.1.7.wav  \n",
            "  inflating: /content/AudioFilesVar/Good/1.1.8.wav  \n",
            "  inflating: /content/AudioFilesVar/Good/1.1.9.wav  \n",
            "  inflating: /content/AudioFilesVar/Good/1.1.10.wav  \n",
            "  inflating: /content/AudioFilesVar/Good/1.1.11.wav  \n",
            "  inflating: /content/AudioFilesVar/Good/1.1.12.wav  \n",
            "  inflating: /content/AudioFilesVar/Good/2.1.1.wav  \n",
            "  inflating: /content/AudioFilesVar/Good/2.1.2.wav  \n",
            "  inflating: /content/AudioFilesVar/Good/2.1.3.wav  \n",
            "  inflating: /content/AudioFilesVar/Good/2.1.4.wav  \n",
            "  inflating: /content/AudioFilesVar/Good/2.1.5.wav  \n",
            "  inflating: /content/AudioFilesVar/Good/2.1.6.wav  \n",
            "  inflating: /content/AudioFilesVar/Good/2.1.7.wav  \n",
            "  inflating: /content/AudioFilesVar/Good/2.1.8.wav  \n",
            "  inflating: /content/AudioFilesVar/Good/2.1.9.wav  \n",
            "  inflating: /content/AudioFilesVar/Good/2.1.10.wav  \n",
            "  inflating: /content/AudioFilesVar/Good/2.1.11.wav  \n",
            "  inflating: /content/AudioFilesVar/Good/2.1.12.wav  \n",
            "  inflating: /content/AudioFilesVar/Good/3.1.1.wav  \n",
            "  inflating: /content/AudioFilesVar/Good/3.1.2.wav  \n",
            "  inflating: /content/AudioFilesVar/Good/3.1.3.wav  \n",
            "  inflating: /content/AudioFilesVar/Good/3.1.4.wav  \n",
            "  inflating: /content/AudioFilesVar/Good/3.1.5.wav  \n",
            "  inflating: /content/AudioFilesVar/Good/3.1.6.wav  \n",
            "  inflating: /content/AudioFilesVar/Good/3.1.7.wav  \n",
            "  inflating: /content/AudioFilesVar/Good/3.1.8.wav  \n",
            "  inflating: /content/AudioFilesVar/Good/3.1.9.wav  \n",
            "  inflating: /content/AudioFilesVar/Good/3.1.10.wav  \n",
            "  inflating: /content/AudioFilesVar/Good/3.1.11.wav  \n",
            "  inflating: /content/AudioFilesVar/Good/3.1.12.wav  \n",
            "  inflating: /content/AudioFilesVar/Good/4.1.1.wav  \n",
            "  inflating: /content/AudioFilesVar/Good/4.1.2.wav  \n",
            "  inflating: /content/AudioFilesVar/Good/4.1.3.wav  \n",
            "  inflating: /content/AudioFilesVar/Good/4.1.4.wav  \n",
            "  inflating: /content/AudioFilesVar/Good/4.1.5.wav  \n",
            "  inflating: /content/AudioFilesVar/Good/4.1.6.wav  \n",
            "  inflating: /content/AudioFilesVar/Good/4.1.7.wav  \n",
            "  inflating: /content/AudioFilesVar/Good/4.1.8.wav  \n",
            "  inflating: /content/AudioFilesVar/Good/4.1.9.wav  \n",
            "  inflating: /content/AudioFilesVar/Good/4.1.10.wav  \n",
            "  inflating: /content/AudioFilesVar/Good/4.1.11.wav  \n",
            "  inflating: /content/AudioFilesVar/Good/4.1.12.wav  \n",
            "  inflating: /content/AudioFilesVar/Good/5.1.1.wav  \n",
            "  inflating: /content/AudioFilesVar/Good/5.1.2.wav  \n",
            "  inflating: /content/AudioFilesVar/Good/5.1.3.wav  \n",
            "  inflating: /content/AudioFilesVar/Good/5.1.4.wav  \n",
            "  inflating: /content/AudioFilesVar/Good/5.1.5.wav  \n",
            "  inflating: /content/AudioFilesVar/Good/5.1.6.wav  \n",
            "  inflating: /content/AudioFilesVar/Good/5.1.7.wav  \n",
            "  inflating: /content/AudioFilesVar/Good/5.1.8.wav  \n",
            "  inflating: /content/AudioFilesVar/Good/5.1.9.wav  \n",
            "  inflating: /content/AudioFilesVar/Good/5.1.10.wav  \n",
            "  inflating: /content/AudioFilesVar/Good/5.1.11.wav  \n",
            "\n",
            "Archive:  /content/Segregation/AudioFilesVar/5seconds/Good/5_seconds_6-10.zip\n",
            "  inflating: /content/AudioFilesVar/Good/10.1.13.wav  \n",
            "  inflating: /content/AudioFilesVar/Good/6.1.1.wav  \n",
            "  inflating: /content/AudioFilesVar/Good/6.1.2.wav  \n",
            "  inflating: /content/AudioFilesVar/Good/6.1.3.wav  \n",
            "  inflating: /content/AudioFilesVar/Good/6.1.4.wav  \n",
            "  inflating: /content/AudioFilesVar/Good/6.1.5.wav  \n",
            "  inflating: /content/AudioFilesVar/Good/6.1.6.wav  \n",
            "  inflating: /content/AudioFilesVar/Good/6.1.7.wav  \n",
            "  inflating: /content/AudioFilesVar/Good/6.1.8.wav  \n",
            "  inflating: /content/AudioFilesVar/Good/6.1.9.wav  \n",
            "  inflating: /content/AudioFilesVar/Good/6.1.10.wav  \n",
            "  inflating: /content/AudioFilesVar/Good/6.1.11.wav  \n",
            "  inflating: /content/AudioFilesVar/Good/6.1.12.wav  \n",
            "  inflating: /content/AudioFilesVar/Good/7.1.1.wav  \n",
            "  inflating: /content/AudioFilesVar/Good/7.1.2.wav  \n",
            "  inflating: /content/AudioFilesVar/Good/7.1.3.wav  \n",
            "  inflating: /content/AudioFilesVar/Good/7.1.4.wav  \n",
            "  inflating: /content/AudioFilesVar/Good/7.1.5.wav  \n",
            "  inflating: /content/AudioFilesVar/Good/7.1.6.wav  \n",
            "  inflating: /content/AudioFilesVar/Good/7.1.7.wav  \n",
            "  inflating: /content/AudioFilesVar/Good/7.1.8.wav  \n",
            "  inflating: /content/AudioFilesVar/Good/7.1.9.wav  \n",
            "  inflating: /content/AudioFilesVar/Good/7.1.10.wav  \n",
            "  inflating: /content/AudioFilesVar/Good/7.1.11.wav  \n",
            "  inflating: /content/AudioFilesVar/Good/7.1.12.wav  \n",
            "  inflating: /content/AudioFilesVar/Good/7.1.13.wav  \n",
            "  inflating: /content/AudioFilesVar/Good/8.1.1.wav  \n",
            "  inflating: /content/AudioFilesVar/Good/8.1.2.wav  \n",
            "  inflating: /content/AudioFilesVar/Good/8.1.3.wav  \n",
            "  inflating: /content/AudioFilesVar/Good/8.1.4.wav  \n",
            "  inflating: /content/AudioFilesVar/Good/8.1.5.wav  \n",
            "  inflating: /content/AudioFilesVar/Good/8.1.6.wav  \n",
            "  inflating: /content/AudioFilesVar/Good/8.1.7.wav  \n",
            "  inflating: /content/AudioFilesVar/Good/8.1.8.wav  \n",
            "  inflating: /content/AudioFilesVar/Good/8.1.9.wav  \n",
            "  inflating: /content/AudioFilesVar/Good/8.1.10.wav  \n",
            "  inflating: /content/AudioFilesVar/Good/8.1.11.wav  \n",
            "  inflating: /content/AudioFilesVar/Good/8.1.12.wav  \n",
            "  inflating: /content/AudioFilesVar/Good/8.1.13.wav  \n",
            "  inflating: /content/AudioFilesVar/Good/9.1.1.wav  \n",
            "  inflating: /content/AudioFilesVar/Good/9.1.2.wav  \n",
            "  inflating: /content/AudioFilesVar/Good/9.1.3.wav  \n",
            "  inflating: /content/AudioFilesVar/Good/9.1.4.wav  \n",
            "  inflating: /content/AudioFilesVar/Good/9.1.5.wav  \n",
            "  inflating: /content/AudioFilesVar/Good/9.1.6.wav  \n",
            "  inflating: /content/AudioFilesVar/Good/9.1.7.wav  \n",
            "  inflating: /content/AudioFilesVar/Good/9.1.8.wav  \n",
            "  inflating: /content/AudioFilesVar/Good/9.1.9.wav  \n",
            "  inflating: /content/AudioFilesVar/Good/9.1.10.wav  \n",
            "  inflating: /content/AudioFilesVar/Good/9.1.11.wav  \n",
            "  inflating: /content/AudioFilesVar/Good/9.1.12.wav  \n",
            "  inflating: /content/AudioFilesVar/Good/10.1.1.wav  \n",
            "  inflating: /content/AudioFilesVar/Good/10.1.2.wav  \n",
            "  inflating: /content/AudioFilesVar/Good/10.1.3.wav  \n",
            "  inflating: /content/AudioFilesVar/Good/10.1.4.wav  \n",
            "  inflating: /content/AudioFilesVar/Good/10.1.5.wav  \n",
            "  inflating: /content/AudioFilesVar/Good/10.1.6.wav  \n",
            "  inflating: /content/AudioFilesVar/Good/10.1.7.wav  \n",
            "  inflating: /content/AudioFilesVar/Good/10.1.8.wav  \n",
            "  inflating: /content/AudioFilesVar/Good/10.1.9.wav  \n",
            "  inflating: /content/AudioFilesVar/Good/10.1.10.wav  \n",
            "  inflating: /content/AudioFilesVar/Good/10.1.11.wav  \n",
            "  inflating: /content/AudioFilesVar/Good/10.1.12.wav  \n",
            "\n",
            "2 archives were successfully processed.\n",
            "Archive:  /content/Segregation/AudioFilesVar/5seconds/Bad/5_seconds_bad.zip\n",
            "  inflating: /content/AudioFilesVar/Bad/13.1.1.wav  \n",
            "  inflating: /content/AudioFilesVar/Bad/13.1.2.wav  \n",
            "  inflating: /content/AudioFilesVar/Bad/13.1.3.wav  \n",
            "  inflating: /content/AudioFilesVar/Bad/13.1.4.wav  \n",
            "  inflating: /content/AudioFilesVar/Bad/13.1.5.wav  \n",
            "  inflating: /content/AudioFilesVar/Bad/13.1.6.wav  \n",
            "  inflating: /content/AudioFilesVar/Bad/13.1.7.wav  \n",
            "  inflating: /content/AudioFilesVar/Bad/13.1.8.wav  \n",
            "  inflating: /content/AudioFilesVar/Bad/13.1.9.wav  \n",
            "  inflating: /content/AudioFilesVar/Bad/13.1.10.wav  \n",
            "  inflating: /content/AudioFilesVar/Bad/13.1.11.wav  \n",
            "  inflating: /content/AudioFilesVar/Bad/13.1.12.wav  \n",
            "  inflating: /content/AudioFilesVar/Bad/14.1.1.wav  \n",
            "  inflating: /content/AudioFilesVar/Bad/14.1.2.wav  \n",
            "  inflating: /content/AudioFilesVar/Bad/14.1.3.wav  \n",
            "  inflating: /content/AudioFilesVar/Bad/14.1.4.wav  \n",
            "  inflating: /content/AudioFilesVar/Bad/14.1.5.wav  \n",
            "  inflating: /content/AudioFilesVar/Bad/14.1.6.wav  \n",
            "  inflating: /content/AudioFilesVar/Bad/14.1.7.wav  \n",
            "  inflating: /content/AudioFilesVar/Bad/14.1.8.wav  \n",
            "  inflating: /content/AudioFilesVar/Bad/14.1.9.wav  \n",
            "  inflating: /content/AudioFilesVar/Bad/14.1.10.wav  \n",
            "  inflating: /content/AudioFilesVar/Bad/14.1.11.wav  \n",
            "  inflating: /content/AudioFilesVar/Bad/14.1.12.wav  \n",
            "  inflating: /content/AudioFilesVar/Bad/14.1.13.wav  \n",
            "  inflating: /content/AudioFilesVar/Bad/16.1.1.wav  \n",
            "  inflating: /content/AudioFilesVar/Bad/16.1.2.wav  \n",
            "  inflating: /content/AudioFilesVar/Bad/16.1.3.wav  \n",
            "  inflating: /content/AudioFilesVar/Bad/16.1.4.wav  \n",
            "  inflating: /content/AudioFilesVar/Bad/16.1.5.wav  \n",
            "  inflating: /content/AudioFilesVar/Bad/16.1.6.wav  \n",
            "  inflating: /content/AudioFilesVar/Bad/16.1.7.wav  \n",
            "  inflating: /content/AudioFilesVar/Bad/16.1.8.wav  \n",
            "  inflating: /content/AudioFilesVar/Bad/16.1.9.wav  \n",
            "  inflating: /content/AudioFilesVar/Bad/16.1.10.wav  \n",
            "  inflating: /content/AudioFilesVar/Bad/16.1.11.wav  \n",
            "  inflating: /content/AudioFilesVar/Bad/16.1.12.wav  \n",
            "  inflating: /content/AudioFilesVar/Bad/21.1.1.wav  \n",
            "  inflating: /content/AudioFilesVar/Bad/21.1.2.wav  \n",
            "  inflating: /content/AudioFilesVar/Bad/21.1.3.wav  \n",
            "  inflating: /content/AudioFilesVar/Bad/21.1.4.wav  \n",
            "  inflating: /content/AudioFilesVar/Bad/21.1.5.wav  \n",
            "  inflating: /content/AudioFilesVar/Bad/21.1.6.wav  \n",
            "  inflating: /content/AudioFilesVar/Bad/21.1.7.wav  \n",
            "  inflating: /content/AudioFilesVar/Bad/21.1.8.wav  \n",
            "  inflating: /content/AudioFilesVar/Bad/21.1.9.wav  \n",
            "  inflating: /content/AudioFilesVar/Bad/21.1.10.wav  \n",
            "  inflating: /content/AudioFilesVar/Bad/21.1.11.wav  \n",
            "  inflating: /content/AudioFilesVar/Bad/21.1.12.wav  \n",
            "  inflating: /content/AudioFilesVar/Bad/23.1.1.wav  \n",
            "  inflating: /content/AudioFilesVar/Bad/23.1.2.wav  \n",
            "  inflating: /content/AudioFilesVar/Bad/23.1.3.wav  \n",
            "  inflating: /content/AudioFilesVar/Bad/23.1.4.wav  \n",
            "  inflating: /content/AudioFilesVar/Bad/23.1.5.wav  \n",
            "  inflating: /content/AudioFilesVar/Bad/23.1.6.wav  \n",
            "  inflating: /content/AudioFilesVar/Bad/23.1.7.wav  \n",
            "  inflating: /content/AudioFilesVar/Bad/23.1.8.wav  \n",
            "  inflating: /content/AudioFilesVar/Bad/23.1.9.wav  \n",
            "  inflating: /content/AudioFilesVar/Bad/23.1.10.wav  \n",
            "  inflating: /content/AudioFilesVar/Bad/23.1.11.wav  \n",
            "  inflating: /content/AudioFilesVar/Bad/23.1.12.wav  \n",
            "  inflating: /content/AudioFilesVar/Bad/23.1.13.wav  \n",
            "Archive:  /content/Segregation/AudioFilesVar/5seconds/Mid/5_seconds_mid_2.zip\n",
            "  inflating: /content/AudioFilesVar/Mid/22.1.6.wav  \n",
            "  inflating: /content/AudioFilesVar/Mid/22.1.7.wav  \n",
            "  inflating: /content/AudioFilesVar/Mid/22.1.8.wav  \n",
            "  inflating: /content/AudioFilesVar/Mid/22.1.9.wav  \n",
            "  inflating: /content/AudioFilesVar/Mid/22.1.10.wav  \n",
            "  inflating: /content/AudioFilesVar/Mid/22.1.11.wav  \n",
            "  inflating: /content/AudioFilesVar/Mid/22.1.12.wav  \n",
            "  inflating: /content/AudioFilesVar/Mid/22.1.13.wav  \n",
            "  inflating: /content/AudioFilesVar/Mid/18.1.1.wav  \n",
            "  inflating: /content/AudioFilesVar/Mid/18.1.2.wav  \n",
            "  inflating: /content/AudioFilesVar/Mid/18.1.3.wav  \n",
            "  inflating: /content/AudioFilesVar/Mid/18.1.4.wav  \n",
            "  inflating: /content/AudioFilesVar/Mid/18.1.5.wav  \n",
            "  inflating: /content/AudioFilesVar/Mid/18.1.6.wav  \n",
            "  inflating: /content/AudioFilesVar/Mid/18.1.7.wav  \n",
            "  inflating: /content/AudioFilesVar/Mid/18.1.8.wav  \n",
            "  inflating: /content/AudioFilesVar/Mid/18.1.9.wav  \n",
            "  inflating: /content/AudioFilesVar/Mid/18.1.10.wav  \n",
            "  inflating: /content/AudioFilesVar/Mid/18.1.11.wav  \n",
            "  inflating: /content/AudioFilesVar/Mid/18.1.12.wav  \n",
            "  inflating: /content/AudioFilesVar/Mid/19.1.1.wav  \n",
            "  inflating: /content/AudioFilesVar/Mid/19.1.2.wav  \n",
            "  inflating: /content/AudioFilesVar/Mid/19.1.3.wav  \n",
            "  inflating: /content/AudioFilesVar/Mid/19.1.4.wav  \n",
            "  inflating: /content/AudioFilesVar/Mid/19.1.5.wav  \n",
            "  inflating: /content/AudioFilesVar/Mid/19.1.6.wav  \n",
            "  inflating: /content/AudioFilesVar/Mid/19.1.7.wav  \n",
            "  inflating: /content/AudioFilesVar/Mid/19.1.8.wav  \n",
            "  inflating: /content/AudioFilesVar/Mid/19.1.9.wav  \n",
            "  inflating: /content/AudioFilesVar/Mid/19.1.10.wav  \n",
            "  inflating: /content/AudioFilesVar/Mid/19.1.11.wav  \n",
            "  inflating: /content/AudioFilesVar/Mid/19.1.12.wav  \n",
            "  inflating: /content/AudioFilesVar/Mid/20.1.1.wav  \n",
            "  inflating: /content/AudioFilesVar/Mid/20.1.2.wav  \n",
            "  inflating: /content/AudioFilesVar/Mid/20.1.3.wav  \n",
            "  inflating: /content/AudioFilesVar/Mid/20.1.4.wav  \n",
            "  inflating: /content/AudioFilesVar/Mid/20.1.5.wav  \n",
            "  inflating: /content/AudioFilesVar/Mid/20.1.6.wav  \n",
            "  inflating: /content/AudioFilesVar/Mid/20.1.7.wav  \n",
            "  inflating: /content/AudioFilesVar/Mid/20.1.8.wav  \n",
            "  inflating: /content/AudioFilesVar/Mid/20.1.9.wav  \n",
            "  inflating: /content/AudioFilesVar/Mid/20.1.10.wav  \n",
            "  inflating: /content/AudioFilesVar/Mid/20.1.11.wav  \n",
            "  inflating: /content/AudioFilesVar/Mid/20.1.12.wav  \n",
            "  inflating: /content/AudioFilesVar/Mid/22.1.1.wav  \n",
            "  inflating: /content/AudioFilesVar/Mid/22.1.2.wav  \n",
            "  inflating: /content/AudioFilesVar/Mid/22.1.3.wav  \n",
            "  inflating: /content/AudioFilesVar/Mid/22.1.4.wav  \n",
            "  inflating: /content/AudioFilesVar/Mid/22.1.5.wav  \n",
            "\n",
            "Archive:  /content/Segregation/AudioFilesVar/5seconds/Mid/5_seconds_mid_1.zip\n",
            "  inflating: /content/AudioFilesVar/Mid/17.1.12.wav  \n",
            "  inflating: /content/AudioFilesVar/Mid/11.1.1.wav  \n",
            "  inflating: /content/AudioFilesVar/Mid/11.1.2.wav  \n",
            "  inflating: /content/AudioFilesVar/Mid/11.1.3.wav  \n",
            "  inflating: /content/AudioFilesVar/Mid/11.1.4.wav  \n",
            "  inflating: /content/AudioFilesVar/Mid/11.1.5.wav  \n",
            "  inflating: /content/AudioFilesVar/Mid/11.1.6.wav  \n",
            "  inflating: /content/AudioFilesVar/Mid/11.1.7.wav  \n",
            "  inflating: /content/AudioFilesVar/Mid/11.1.8.wav  \n",
            "  inflating: /content/AudioFilesVar/Mid/11.1.9.wav  \n",
            "  inflating: /content/AudioFilesVar/Mid/11.1.10.wav  \n",
            "  inflating: /content/AudioFilesVar/Mid/11.1.11.wav  \n",
            "  inflating: /content/AudioFilesVar/Mid/11.1.12.wav  \n",
            "  inflating: /content/AudioFilesVar/Mid/12.1.1.wav  \n",
            "  inflating: /content/AudioFilesVar/Mid/12.1.2.wav  \n",
            "  inflating: /content/AudioFilesVar/Mid/12.1.3.wav  \n",
            "  inflating: /content/AudioFilesVar/Mid/12.1.4.wav  \n",
            "  inflating: /content/AudioFilesVar/Mid/12.1.5.wav  \n",
            "  inflating: /content/AudioFilesVar/Mid/12.1.6.wav  \n",
            "  inflating: /content/AudioFilesVar/Mid/12.1.7.wav  \n",
            "  inflating: /content/AudioFilesVar/Mid/12.1.8.wav  \n",
            "  inflating: /content/AudioFilesVar/Mid/12.1.9.wav  \n",
            "  inflating: /content/AudioFilesVar/Mid/12.1.10.wav  \n",
            "  inflating: /content/AudioFilesVar/Mid/12.1.11.wav  \n",
            "  inflating: /content/AudioFilesVar/Mid/12.1.12.wav  \n",
            "  inflating: /content/AudioFilesVar/Mid/15.1.1.wav  \n",
            "  inflating: /content/AudioFilesVar/Mid/15.1.2.wav  \n",
            "  inflating: /content/AudioFilesVar/Mid/15.1.3.wav  \n",
            "  inflating: /content/AudioFilesVar/Mid/15.1.4.wav  \n",
            "  inflating: /content/AudioFilesVar/Mid/15.1.5.wav  \n",
            "  inflating: /content/AudioFilesVar/Mid/15.1.6.wav  \n",
            "  inflating: /content/AudioFilesVar/Mid/15.1.7.wav  \n",
            "  inflating: /content/AudioFilesVar/Mid/15.1.8.wav  \n",
            "  inflating: /content/AudioFilesVar/Mid/15.1.9.wav  \n",
            "  inflating: /content/AudioFilesVar/Mid/15.1.10.wav  \n",
            "  inflating: /content/AudioFilesVar/Mid/15.1.11.wav  \n",
            "  inflating: /content/AudioFilesVar/Mid/15.1.12.wav  \n",
            "  inflating: /content/AudioFilesVar/Mid/17.1.1.wav  \n",
            "  inflating: /content/AudioFilesVar/Mid/17.1.2.wav  \n",
            "  inflating: /content/AudioFilesVar/Mid/17.1.3.wav  \n",
            "  inflating: /content/AudioFilesVar/Mid/17.1.4.wav  \n",
            "  inflating: /content/AudioFilesVar/Mid/17.1.5.wav  \n",
            "  inflating: /content/AudioFilesVar/Mid/17.1.6.wav  \n",
            "  inflating: /content/AudioFilesVar/Mid/17.1.7.wav  \n",
            "  inflating: /content/AudioFilesVar/Mid/17.1.8.wav  \n",
            "  inflating: /content/AudioFilesVar/Mid/17.1.9.wav  \n",
            "  inflating: /content/AudioFilesVar/Mid/17.1.10.wav  \n",
            "  inflating: /content/AudioFilesVar/Mid/17.1.11.wav  \n",
            "\n",
            "2 archives were successfully processed.\n",
            "Archive:  /content/Segregation/AudioFilesVar/5seconds/Mid/5_seconds_mid_2.zip\n",
            "  inflating: /content/AudioFilesVar/Good_and_Mid/22.1.6.wav  \n",
            "  inflating: /content/AudioFilesVar/Good_and_Mid/22.1.7.wav  \n",
            "  inflating: /content/AudioFilesVar/Good_and_Mid/22.1.8.wav  \n",
            "  inflating: /content/AudioFilesVar/Good_and_Mid/22.1.9.wav  \n",
            "  inflating: /content/AudioFilesVar/Good_and_Mid/22.1.10.wav  \n",
            "  inflating: /content/AudioFilesVar/Good_and_Mid/22.1.11.wav  \n",
            "  inflating: /content/AudioFilesVar/Good_and_Mid/22.1.12.wav  \n",
            "  inflating: /content/AudioFilesVar/Good_and_Mid/22.1.13.wav  \n",
            "  inflating: /content/AudioFilesVar/Good_and_Mid/18.1.1.wav  \n",
            "  inflating: /content/AudioFilesVar/Good_and_Mid/18.1.2.wav  \n",
            "  inflating: /content/AudioFilesVar/Good_and_Mid/18.1.3.wav  \n",
            "  inflating: /content/AudioFilesVar/Good_and_Mid/18.1.4.wav  \n",
            "  inflating: /content/AudioFilesVar/Good_and_Mid/18.1.5.wav  \n",
            "  inflating: /content/AudioFilesVar/Good_and_Mid/18.1.6.wav  \n",
            "  inflating: /content/AudioFilesVar/Good_and_Mid/18.1.7.wav  \n",
            "  inflating: /content/AudioFilesVar/Good_and_Mid/18.1.8.wav  \n",
            "  inflating: /content/AudioFilesVar/Good_and_Mid/18.1.9.wav  \n",
            "  inflating: /content/AudioFilesVar/Good_and_Mid/18.1.10.wav  \n",
            "  inflating: /content/AudioFilesVar/Good_and_Mid/18.1.11.wav  \n",
            "  inflating: /content/AudioFilesVar/Good_and_Mid/18.1.12.wav  \n",
            "  inflating: /content/AudioFilesVar/Good_and_Mid/19.1.1.wav  \n",
            "  inflating: /content/AudioFilesVar/Good_and_Mid/19.1.2.wav  \n",
            "  inflating: /content/AudioFilesVar/Good_and_Mid/19.1.3.wav  \n",
            "  inflating: /content/AudioFilesVar/Good_and_Mid/19.1.4.wav  \n",
            "  inflating: /content/AudioFilesVar/Good_and_Mid/19.1.5.wav  \n",
            "  inflating: /content/AudioFilesVar/Good_and_Mid/19.1.6.wav  \n",
            "  inflating: /content/AudioFilesVar/Good_and_Mid/19.1.7.wav  \n",
            "  inflating: /content/AudioFilesVar/Good_and_Mid/19.1.8.wav  \n",
            "  inflating: /content/AudioFilesVar/Good_and_Mid/19.1.9.wav  \n",
            "  inflating: /content/AudioFilesVar/Good_and_Mid/19.1.10.wav  \n",
            "  inflating: /content/AudioFilesVar/Good_and_Mid/19.1.11.wav  \n",
            "  inflating: /content/AudioFilesVar/Good_and_Mid/19.1.12.wav  \n",
            "  inflating: /content/AudioFilesVar/Good_and_Mid/20.1.1.wav  \n",
            "  inflating: /content/AudioFilesVar/Good_and_Mid/20.1.2.wav  \n",
            "  inflating: /content/AudioFilesVar/Good_and_Mid/20.1.3.wav  \n",
            "  inflating: /content/AudioFilesVar/Good_and_Mid/20.1.4.wav  \n",
            "  inflating: /content/AudioFilesVar/Good_and_Mid/20.1.5.wav  \n",
            "  inflating: /content/AudioFilesVar/Good_and_Mid/20.1.6.wav  \n",
            "  inflating: /content/AudioFilesVar/Good_and_Mid/20.1.7.wav  \n",
            "  inflating: /content/AudioFilesVar/Good_and_Mid/20.1.8.wav  \n",
            "  inflating: /content/AudioFilesVar/Good_and_Mid/20.1.9.wav  \n",
            "  inflating: /content/AudioFilesVar/Good_and_Mid/20.1.10.wav  \n",
            "  inflating: /content/AudioFilesVar/Good_and_Mid/20.1.11.wav  \n",
            "  inflating: /content/AudioFilesVar/Good_and_Mid/20.1.12.wav  \n",
            "  inflating: /content/AudioFilesVar/Good_and_Mid/22.1.1.wav  \n",
            "  inflating: /content/AudioFilesVar/Good_and_Mid/22.1.2.wav  \n",
            "  inflating: /content/AudioFilesVar/Good_and_Mid/22.1.3.wav  \n",
            "  inflating: /content/AudioFilesVar/Good_and_Mid/22.1.4.wav  \n",
            "  inflating: /content/AudioFilesVar/Good_and_Mid/22.1.5.wav  \n",
            "\n",
            "Archive:  /content/Segregation/AudioFilesVar/5seconds/Mid/5_seconds_mid_1.zip\n",
            "  inflating: /content/AudioFilesVar/Good_and_Mid/17.1.12.wav  \n",
            "  inflating: /content/AudioFilesVar/Good_and_Mid/11.1.1.wav  \n",
            "  inflating: /content/AudioFilesVar/Good_and_Mid/11.1.2.wav  \n",
            "  inflating: /content/AudioFilesVar/Good_and_Mid/11.1.3.wav  \n",
            "  inflating: /content/AudioFilesVar/Good_and_Mid/11.1.4.wav  \n",
            "  inflating: /content/AudioFilesVar/Good_and_Mid/11.1.5.wav  \n",
            "  inflating: /content/AudioFilesVar/Good_and_Mid/11.1.6.wav  \n",
            "  inflating: /content/AudioFilesVar/Good_and_Mid/11.1.7.wav  \n",
            "  inflating: /content/AudioFilesVar/Good_and_Mid/11.1.8.wav  \n",
            "  inflating: /content/AudioFilesVar/Good_and_Mid/11.1.9.wav  \n",
            "  inflating: /content/AudioFilesVar/Good_and_Mid/11.1.10.wav  \n",
            "  inflating: /content/AudioFilesVar/Good_and_Mid/11.1.11.wav  \n",
            "  inflating: /content/AudioFilesVar/Good_and_Mid/11.1.12.wav  \n",
            "  inflating: /content/AudioFilesVar/Good_and_Mid/12.1.1.wav  \n",
            "  inflating: /content/AudioFilesVar/Good_and_Mid/12.1.2.wav  \n",
            "  inflating: /content/AudioFilesVar/Good_and_Mid/12.1.3.wav  \n",
            "  inflating: /content/AudioFilesVar/Good_and_Mid/12.1.4.wav  \n",
            "  inflating: /content/AudioFilesVar/Good_and_Mid/12.1.5.wav  \n",
            "  inflating: /content/AudioFilesVar/Good_and_Mid/12.1.6.wav  \n",
            "  inflating: /content/AudioFilesVar/Good_and_Mid/12.1.7.wav  \n",
            "  inflating: /content/AudioFilesVar/Good_and_Mid/12.1.8.wav  \n",
            "  inflating: /content/AudioFilesVar/Good_and_Mid/12.1.9.wav  \n",
            "  inflating: /content/AudioFilesVar/Good_and_Mid/12.1.10.wav  \n",
            "  inflating: /content/AudioFilesVar/Good_and_Mid/12.1.11.wav  \n",
            "  inflating: /content/AudioFilesVar/Good_and_Mid/12.1.12.wav  \n",
            "  inflating: /content/AudioFilesVar/Good_and_Mid/15.1.1.wav  \n",
            "  inflating: /content/AudioFilesVar/Good_and_Mid/15.1.2.wav  \n",
            "  inflating: /content/AudioFilesVar/Good_and_Mid/15.1.3.wav  \n",
            "  inflating: /content/AudioFilesVar/Good_and_Mid/15.1.4.wav  \n",
            "  inflating: /content/AudioFilesVar/Good_and_Mid/15.1.5.wav  \n",
            "  inflating: /content/AudioFilesVar/Good_and_Mid/15.1.6.wav  \n",
            "  inflating: /content/AudioFilesVar/Good_and_Mid/15.1.7.wav  \n",
            "  inflating: /content/AudioFilesVar/Good_and_Mid/15.1.8.wav  \n",
            "  inflating: /content/AudioFilesVar/Good_and_Mid/15.1.9.wav  \n",
            "  inflating: /content/AudioFilesVar/Good_and_Mid/15.1.10.wav  \n",
            "  inflating: /content/AudioFilesVar/Good_and_Mid/15.1.11.wav  \n",
            "  inflating: /content/AudioFilesVar/Good_and_Mid/15.1.12.wav  \n",
            "  inflating: /content/AudioFilesVar/Good_and_Mid/17.1.1.wav  \n",
            "  inflating: /content/AudioFilesVar/Good_and_Mid/17.1.2.wav  \n",
            "  inflating: /content/AudioFilesVar/Good_and_Mid/17.1.3.wav  \n",
            "  inflating: /content/AudioFilesVar/Good_and_Mid/17.1.4.wav  \n",
            "  inflating: /content/AudioFilesVar/Good_and_Mid/17.1.5.wav  \n",
            "  inflating: /content/AudioFilesVar/Good_and_Mid/17.1.6.wav  \n",
            "  inflating: /content/AudioFilesVar/Good_and_Mid/17.1.7.wav  \n",
            "  inflating: /content/AudioFilesVar/Good_and_Mid/17.1.8.wav  \n",
            "  inflating: /content/AudioFilesVar/Good_and_Mid/17.1.9.wav  \n",
            "  inflating: /content/AudioFilesVar/Good_and_Mid/17.1.10.wav  \n",
            "  inflating: /content/AudioFilesVar/Good_and_Mid/17.1.11.wav  \n",
            "\n",
            "2 archives were successfully processed.\n",
            "Archive:  /content/Segregation/AudioFilesVar/5seconds/Good/5_seconds_1-5.zip\n",
            "  inflating: /content/AudioFilesVar/Good_and_Mid/5.1.12.wav  \n",
            "  inflating: /content/AudioFilesVar/Good_and_Mid/1.1.1.wav  \n",
            "  inflating: /content/AudioFilesVar/Good_and_Mid/1.1.2.wav  \n",
            "  inflating: /content/AudioFilesVar/Good_and_Mid/1.1.3.wav  \n",
            "  inflating: /content/AudioFilesVar/Good_and_Mid/1.1.4.wav  \n",
            "  inflating: /content/AudioFilesVar/Good_and_Mid/1.1.5.wav  \n",
            "  inflating: /content/AudioFilesVar/Good_and_Mid/1.1.6.wav  \n",
            "  inflating: /content/AudioFilesVar/Good_and_Mid/1.1.7.wav  \n",
            "  inflating: /content/AudioFilesVar/Good_and_Mid/1.1.8.wav  \n",
            "  inflating: /content/AudioFilesVar/Good_and_Mid/1.1.9.wav  \n",
            "  inflating: /content/AudioFilesVar/Good_and_Mid/1.1.10.wav  \n",
            "  inflating: /content/AudioFilesVar/Good_and_Mid/1.1.11.wav  \n",
            "  inflating: /content/AudioFilesVar/Good_and_Mid/1.1.12.wav  \n",
            "  inflating: /content/AudioFilesVar/Good_and_Mid/2.1.1.wav  \n",
            "  inflating: /content/AudioFilesVar/Good_and_Mid/2.1.2.wav  \n",
            "  inflating: /content/AudioFilesVar/Good_and_Mid/2.1.3.wav  \n",
            "  inflating: /content/AudioFilesVar/Good_and_Mid/2.1.4.wav  \n",
            "  inflating: /content/AudioFilesVar/Good_and_Mid/2.1.5.wav  \n",
            "  inflating: /content/AudioFilesVar/Good_and_Mid/2.1.6.wav  \n",
            "  inflating: /content/AudioFilesVar/Good_and_Mid/2.1.7.wav  \n",
            "  inflating: /content/AudioFilesVar/Good_and_Mid/2.1.8.wav  \n",
            "  inflating: /content/AudioFilesVar/Good_and_Mid/2.1.9.wav  \n",
            "  inflating: /content/AudioFilesVar/Good_and_Mid/2.1.10.wav  \n",
            "  inflating: /content/AudioFilesVar/Good_and_Mid/2.1.11.wav  \n",
            "  inflating: /content/AudioFilesVar/Good_and_Mid/2.1.12.wav  \n",
            "  inflating: /content/AudioFilesVar/Good_and_Mid/3.1.1.wav  \n",
            "  inflating: /content/AudioFilesVar/Good_and_Mid/3.1.2.wav  \n",
            "  inflating: /content/AudioFilesVar/Good_and_Mid/3.1.3.wav  \n",
            "  inflating: /content/AudioFilesVar/Good_and_Mid/3.1.4.wav  \n",
            "  inflating: /content/AudioFilesVar/Good_and_Mid/3.1.5.wav  \n",
            "  inflating: /content/AudioFilesVar/Good_and_Mid/3.1.6.wav  \n",
            "  inflating: /content/AudioFilesVar/Good_and_Mid/3.1.7.wav  \n",
            "  inflating: /content/AudioFilesVar/Good_and_Mid/3.1.8.wav  \n",
            "  inflating: /content/AudioFilesVar/Good_and_Mid/3.1.9.wav  \n",
            "  inflating: /content/AudioFilesVar/Good_and_Mid/3.1.10.wav  \n",
            "  inflating: /content/AudioFilesVar/Good_and_Mid/3.1.11.wav  \n",
            "  inflating: /content/AudioFilesVar/Good_and_Mid/3.1.12.wav  \n",
            "  inflating: /content/AudioFilesVar/Good_and_Mid/4.1.1.wav  \n",
            "  inflating: /content/AudioFilesVar/Good_and_Mid/4.1.2.wav  \n",
            "  inflating: /content/AudioFilesVar/Good_and_Mid/4.1.3.wav  \n",
            "  inflating: /content/AudioFilesVar/Good_and_Mid/4.1.4.wav  \n",
            "  inflating: /content/AudioFilesVar/Good_and_Mid/4.1.5.wav  \n",
            "  inflating: /content/AudioFilesVar/Good_and_Mid/4.1.6.wav  \n",
            "  inflating: /content/AudioFilesVar/Good_and_Mid/4.1.7.wav  \n",
            "  inflating: /content/AudioFilesVar/Good_and_Mid/4.1.8.wav  \n",
            "  inflating: /content/AudioFilesVar/Good_and_Mid/4.1.9.wav  \n",
            "  inflating: /content/AudioFilesVar/Good_and_Mid/4.1.10.wav  \n",
            "  inflating: /content/AudioFilesVar/Good_and_Mid/4.1.11.wav  \n",
            "  inflating: /content/AudioFilesVar/Good_and_Mid/4.1.12.wav  \n",
            "  inflating: /content/AudioFilesVar/Good_and_Mid/5.1.1.wav  \n",
            "  inflating: /content/AudioFilesVar/Good_and_Mid/5.1.2.wav  \n",
            "  inflating: /content/AudioFilesVar/Good_and_Mid/5.1.3.wav  \n",
            "  inflating: /content/AudioFilesVar/Good_and_Mid/5.1.4.wav  \n",
            "  inflating: /content/AudioFilesVar/Good_and_Mid/5.1.5.wav  \n",
            "  inflating: /content/AudioFilesVar/Good_and_Mid/5.1.6.wav  \n",
            "  inflating: /content/AudioFilesVar/Good_and_Mid/5.1.7.wav  \n",
            "  inflating: /content/AudioFilesVar/Good_and_Mid/5.1.8.wav  \n",
            "  inflating: /content/AudioFilesVar/Good_and_Mid/5.1.9.wav  \n",
            "  inflating: /content/AudioFilesVar/Good_and_Mid/5.1.10.wav  \n",
            "  inflating: /content/AudioFilesVar/Good_and_Mid/5.1.11.wav  \n",
            "\n",
            "Archive:  /content/Segregation/AudioFilesVar/5seconds/Good/5_seconds_6-10.zip\n",
            "  inflating: /content/AudioFilesVar/Good_and_Mid/10.1.13.wav  \n",
            "  inflating: /content/AudioFilesVar/Good_and_Mid/6.1.1.wav  \n",
            "  inflating: /content/AudioFilesVar/Good_and_Mid/6.1.2.wav  \n",
            "  inflating: /content/AudioFilesVar/Good_and_Mid/6.1.3.wav  \n",
            "  inflating: /content/AudioFilesVar/Good_and_Mid/6.1.4.wav  \n",
            "  inflating: /content/AudioFilesVar/Good_and_Mid/6.1.5.wav  \n",
            "  inflating: /content/AudioFilesVar/Good_and_Mid/6.1.6.wav  \n",
            "  inflating: /content/AudioFilesVar/Good_and_Mid/6.1.7.wav  \n",
            "  inflating: /content/AudioFilesVar/Good_and_Mid/6.1.8.wav  \n",
            "  inflating: /content/AudioFilesVar/Good_and_Mid/6.1.9.wav  \n",
            "  inflating: /content/AudioFilesVar/Good_and_Mid/6.1.10.wav  \n",
            "  inflating: /content/AudioFilesVar/Good_and_Mid/6.1.11.wav  \n",
            "  inflating: /content/AudioFilesVar/Good_and_Mid/6.1.12.wav  \n",
            "  inflating: /content/AudioFilesVar/Good_and_Mid/7.1.1.wav  \n",
            "  inflating: /content/AudioFilesVar/Good_and_Mid/7.1.2.wav  \n",
            "  inflating: /content/AudioFilesVar/Good_and_Mid/7.1.3.wav  \n",
            "  inflating: /content/AudioFilesVar/Good_and_Mid/7.1.4.wav  \n",
            "  inflating: /content/AudioFilesVar/Good_and_Mid/7.1.5.wav  \n",
            "  inflating: /content/AudioFilesVar/Good_and_Mid/7.1.6.wav  \n",
            "  inflating: /content/AudioFilesVar/Good_and_Mid/7.1.7.wav  \n",
            "  inflating: /content/AudioFilesVar/Good_and_Mid/7.1.8.wav  \n",
            "  inflating: /content/AudioFilesVar/Good_and_Mid/7.1.9.wav  \n",
            "  inflating: /content/AudioFilesVar/Good_and_Mid/7.1.10.wav  \n",
            "  inflating: /content/AudioFilesVar/Good_and_Mid/7.1.11.wav  \n",
            "  inflating: /content/AudioFilesVar/Good_and_Mid/7.1.12.wav  \n",
            "  inflating: /content/AudioFilesVar/Good_and_Mid/7.1.13.wav  \n",
            "  inflating: /content/AudioFilesVar/Good_and_Mid/8.1.1.wav  \n",
            "  inflating: /content/AudioFilesVar/Good_and_Mid/8.1.2.wav  \n",
            "  inflating: /content/AudioFilesVar/Good_and_Mid/8.1.3.wav  \n",
            "  inflating: /content/AudioFilesVar/Good_and_Mid/8.1.4.wav  \n",
            "  inflating: /content/AudioFilesVar/Good_and_Mid/8.1.5.wav  \n",
            "  inflating: /content/AudioFilesVar/Good_and_Mid/8.1.6.wav  \n",
            "  inflating: /content/AudioFilesVar/Good_and_Mid/8.1.7.wav  \n",
            "  inflating: /content/AudioFilesVar/Good_and_Mid/8.1.8.wav  \n",
            "  inflating: /content/AudioFilesVar/Good_and_Mid/8.1.9.wav  \n",
            "  inflating: /content/AudioFilesVar/Good_and_Mid/8.1.10.wav  \n",
            "  inflating: /content/AudioFilesVar/Good_and_Mid/8.1.11.wav  \n",
            "  inflating: /content/AudioFilesVar/Good_and_Mid/8.1.12.wav  \n",
            "  inflating: /content/AudioFilesVar/Good_and_Mid/8.1.13.wav  \n",
            "  inflating: /content/AudioFilesVar/Good_and_Mid/9.1.1.wav  \n",
            "  inflating: /content/AudioFilesVar/Good_and_Mid/9.1.2.wav  \n",
            "  inflating: /content/AudioFilesVar/Good_and_Mid/9.1.3.wav  \n",
            "  inflating: /content/AudioFilesVar/Good_and_Mid/9.1.4.wav  \n",
            "  inflating: /content/AudioFilesVar/Good_and_Mid/9.1.5.wav  \n",
            "  inflating: /content/AudioFilesVar/Good_and_Mid/9.1.6.wav  \n",
            "  inflating: /content/AudioFilesVar/Good_and_Mid/9.1.7.wav  \n",
            "  inflating: /content/AudioFilesVar/Good_and_Mid/9.1.8.wav  \n",
            "  inflating: /content/AudioFilesVar/Good_and_Mid/9.1.9.wav  \n",
            "  inflating: /content/AudioFilesVar/Good_and_Mid/9.1.10.wav  \n",
            "  inflating: /content/AudioFilesVar/Good_and_Mid/9.1.11.wav  \n",
            "  inflating: /content/AudioFilesVar/Good_and_Mid/9.1.12.wav  \n",
            "  inflating: /content/AudioFilesVar/Good_and_Mid/10.1.1.wav  \n",
            "  inflating: /content/AudioFilesVar/Good_and_Mid/10.1.2.wav  \n",
            "  inflating: /content/AudioFilesVar/Good_and_Mid/10.1.3.wav  \n",
            "  inflating: /content/AudioFilesVar/Good_and_Mid/10.1.4.wav  \n",
            "  inflating: /content/AudioFilesVar/Good_and_Mid/10.1.5.wav  \n",
            "  inflating: /content/AudioFilesVar/Good_and_Mid/10.1.6.wav  \n",
            "  inflating: /content/AudioFilesVar/Good_and_Mid/10.1.7.wav  \n",
            "  inflating: /content/AudioFilesVar/Good_and_Mid/10.1.8.wav  \n",
            "  inflating: /content/AudioFilesVar/Good_and_Mid/10.1.9.wav  \n",
            "  inflating: /content/AudioFilesVar/Good_and_Mid/10.1.10.wav  \n",
            "  inflating: /content/AudioFilesVar/Good_and_Mid/10.1.11.wav  \n",
            "  inflating: /content/AudioFilesVar/Good_and_Mid/10.1.12.wav  \n",
            "\n",
            "2 archives were successfully processed.\n"
          ]
        }
      ]
    },
    {
      "cell_type": "code",
      "source": [
        "audio_files_var = glob('/content/AudioFilesVar/*/*.wav')\n",
        "audio_files_var_good = glob('/content/AudioFilesVar/Good/*.wav')\n",
        "audio_files_var_bad = glob('/content/AudioFilesVar/Bad/*.wav')\n",
        "audio_files_var_mid = glob('/content/AudioFilesVar/Mid/*.wav')\n",
        "audio_files_var_good_and_bad = glob('/content/AudioFilesVar/{Good,Mid}/*.wav')"
      ],
      "metadata": {
        "id": "7UAxxt4QAjl9"
      },
      "execution_count": 39,
      "outputs": []
    },
    {
      "cell_type": "code",
      "source": [
        "goodmidvar = tf.data.Dataset.list_files('/content/AudioFilesVar/Good_and_Mid/*.wav')\n",
        "badvar = tf.data.Dataset.list_files('/content/AudioFilesVar/Bad/*.wav')\n",
        "goodvar = tf.data.Dataset.list_files('/content/AudioFilesVar/Good/*.wav')\n",
        "midvar = tf.data.Dataset.list_files('/content/AudioFilesVar/Mid/*.wav')\n",
        "good.as_numpy_iterator().next()"
      ],
      "metadata": {
        "id": "zoKQw_6FCA4u",
        "outputId": "55a726d9-6804-4fa5-c0ee-c5203c391a9c",
        "colab": {
          "base_uri": "https://localhost:8080/"
        }
      },
      "execution_count": 40,
      "outputs": [
        {
          "output_type": "execute_result",
          "data": {
            "text/plain": [
              "b'/content/AudioFiles/Good/10.1.13.wav'"
            ]
          },
          "metadata": {},
          "execution_count": 40
        }
      ]
    },
    {
      "cell_type": "code",
      "source": [
        "positives = tf.data.Dataset.zip((goodmidvar, tf.data.Dataset.from_tensor_slices(tf.ones(len(good)))))\n",
        "negatives = tf.data.Dataset.zip((badvar, tf.data.Dataset.from_tensor_slices(tf.zeros(len(good)))))\n",
        "datavar1 = positives.concatenate(negatives)\n",
        "datavar1.shuffle(1000).as_numpy_iterator().next()"
      ],
      "metadata": {
        "id": "RnYngZVwE9EK",
        "outputId": "79ecdc4f-a6da-4cb3-e152-01242aad4245",
        "colab": {
          "base_uri": "https://localhost:8080/"
        }
      },
      "execution_count": 41,
      "outputs": [
        {
          "output_type": "execute_result",
          "data": {
            "text/plain": [
              "(b'/content/AudioFilesVar/Bad/14.1.3.wav', 0.0)"
            ]
          },
          "metadata": {},
          "execution_count": 41
        }
      ]
    },
    {
      "cell_type": "code",
      "source": [
        "datavar1 = datavar1.map(preprocess)\n",
        "datavar1 = datavar1.cache()\n",
        "datavar1 = datavar1.shuffle(buffer_size=1000)\n",
        "datavar1 = datavar1.batch(16)\n",
        "datavar1 = datavar1.prefetch(8)"
      ],
      "metadata": {
        "id": "ru4PIl8eBpQM",
        "outputId": "67522cb7-f0eb-4628-b466-075aaa9c0756",
        "colab": {
          "base_uri": "https://localhost:8080/"
        }
      },
      "execution_count": 42,
      "outputs": [
        {
          "output_type": "stream",
          "name": "stderr",
          "text": [
            "WARNING:tensorflow:Using a while_loop for converting IO>AudioResample cause there is no registered converter for this op.\n"
          ]
        }
      ]
    },
    {
      "cell_type": "code",
      "source": [
        "print(len(datavar1))\n",
        "train = datavar1.take(8)\n",
        "test = datavar1.skip(8).take(4)"
      ],
      "metadata": {
        "id": "w5_bbG3EF2lW",
        "outputId": "834517c0-7307-4503-d1b6-a3260031310b",
        "colab": {
          "base_uri": "https://localhost:8080/"
        }
      },
      "execution_count": 56,
      "outputs": [
        {
          "output_type": "stream",
          "name": "stdout",
          "text": [
            "12\n"
          ]
        }
      ]
    },
    {
      "cell_type": "code",
      "source": [
        "modelvar1 = Sequential()\n",
        "modelvar1.add(Conv2D(16, (3,3), activation='relu', input_shape=(313, 128, 1)))\n",
        "modelvar1.add(Conv2D(16, (3,3), activation='relu'))\n",
        "modelvar1.add(Flatten())\n",
        "modelvar1.add(Dense(128, activation='relu'))\n",
        "modelvar1.add(Dense(1, activation='sigmoid'))"
      ],
      "metadata": {
        "id": "l8nmqZt2FipY"
      },
      "execution_count": 57,
      "outputs": []
    },
    {
      "cell_type": "code",
      "source": [
        "modelvar1.compile(\"Adam\", loss='BinaryCrossentropy', metrics=[tf.keras.metrics.Recall(), tf.keras.metrics.Precision()])"
      ],
      "metadata": {
        "id": "73Z1Zv-4FpMv"
      },
      "execution_count": 58,
      "outputs": []
    },
    {
      "cell_type": "code",
      "source": [
        "modelvar1.summary()"
      ],
      "metadata": {
        "id": "aNruAGqVFsGk",
        "outputId": "d669a139-a139-4f4f-aec7-8430254be458",
        "colab": {
          "base_uri": "https://localhost:8080/"
        }
      },
      "execution_count": 59,
      "outputs": [
        {
          "output_type": "stream",
          "name": "stdout",
          "text": [
            "Model: \"sequential_3\"\n",
            "_________________________________________________________________\n",
            " Layer (type)                Output Shape              Param #   \n",
            "=================================================================\n",
            " conv2d_6 (Conv2D)           (None, 311, 126, 16)      160       \n",
            "                                                                 \n",
            " conv2d_7 (Conv2D)           (None, 309, 124, 16)      2320      \n",
            "                                                                 \n",
            " flatten_3 (Flatten)         (None, 613056)            0         \n",
            "                                                                 \n",
            " dense_6 (Dense)             (None, 128)               78471296  \n",
            "                                                                 \n",
            " dense_7 (Dense)             (None, 1)                 129       \n",
            "                                                                 \n",
            "=================================================================\n",
            "Total params: 78,473,905\n",
            "Trainable params: 78,473,905\n",
            "Non-trainable params: 0\n",
            "_________________________________________________________________\n"
          ]
        }
      ]
    },
    {
      "cell_type": "code",
      "source": [
        "histvar1 = modelvar1.fit(train, epochs=4, validation_data=test)"
      ],
      "metadata": {
        "id": "0ha0mn-pFu9J",
        "outputId": "bde2a7b8-6c9a-4e15-dd5c-05c7da4f1738",
        "colab": {
          "base_uri": "https://localhost:8080/"
        }
      },
      "execution_count": 60,
      "outputs": [
        {
          "output_type": "stream",
          "name": "stdout",
          "text": [
            "Epoch 1/4\n",
            "8/8 [==============================] - 26s 3s/step - loss: 545.4633 - recall_3: 0.7356 - precision_3: 0.6882 - val_loss: 316.8904 - val_recall_3: 0.0000e+00 - val_precision_3: 0.0000e+00\n",
            "Epoch 2/4\n",
            "8/8 [==============================] - 17s 2s/step - loss: 95.4408 - recall_3: 0.6625 - precision_3: 0.8983 - val_loss: 39.7846 - val_recall_3: 1.0000 - val_precision_3: 0.8043\n",
            "Epoch 3/4\n",
            "8/8 [==============================] - 19s 2s/step - loss: 42.2155 - recall_3: 0.9767 - precision_3: 0.8077 - val_loss: 7.1609 - val_recall_3: 0.7105 - val_precision_3: 1.0000\n",
            "Epoch 4/4\n",
            "8/8 [==============================] - 17s 2s/step - loss: 5.6935 - recall_3: 0.7024 - precision_3: 1.0000 - val_loss: 4.6237e-19 - val_recall_3: 1.0000 - val_precision_3: 1.0000\n"
          ]
        }
      ]
    },
    {
      "cell_type": "code",
      "source": [
        "plt.title(\"Loss\")\n",
        "plt.plot(histvar1.history['loss'], 'r')\n",
        "plt.plot(histvar1.history['val_loss'],'b')\n",
        "plt.show()"
      ],
      "metadata": {
        "id": "_WGDJ-jHGj7j",
        "outputId": "fe2d1b5c-ad4d-4a61-cc7b-c875bb2c05cb",
        "colab": {
          "base_uri": "https://localhost:8080/",
          "height": 284
        }
      },
      "execution_count": 61,
      "outputs": [
        {
          "output_type": "display_data",
          "data": {
            "text/plain": [
              "<Figure size 432x288 with 1 Axes>"
            ],
            "image/png": "[encoded data removed]"
          },
          "metadata": {}
        }
      ]
    },
    {
      "cell_type": "code",
      "source": [
        "plt.title(\"Precision\")\n",
        "plt.plot(histvar1.history['precision_3'], 'r')\n",
        "plt.plot(histvar1.history['val_precision_3'],'b')\n",
        "plt.show()"
      ],
      "metadata": {
        "id": "VL7n3gSGGnou",
        "outputId": "63ede3dc-ae84-43c3-a095-d205baec47c1",
        "colab": {
          "base_uri": "https://localhost:8080/",
          "height": 284
        }
      },
      "execution_count": 62,
      "outputs": [
        {
          "output_type": "display_data",
          "data": {
            "text/plain": [
              "<Figure size 432x288 with 1 Axes>"
            ],
            "image/png": "[encoded data removed]"
          },
          "metadata": {}
        }
      ]
    },
    {
      "cell_type": "code",
      "source": [
        "plt.title(\"Recall\")\n",
        "plt.plot(histvar1.history['recall_3'], 'r')\n",
        "plt.plot(histvar1.history['val_recall_3'],'b')\n",
        "plt.show()"
      ],
      "metadata": {
        "id": "6eWAFoOeGun3",
        "outputId": "e0f66fa1-590f-4fe5-a883-a9db6b8417a5",
        "colab": {
          "base_uri": "https://localhost:8080/",
          "height": 284
        }
      },
      "execution_count": 63,
      "outputs": [
        {
          "output_type": "display_data",
          "data": {
            "text/plain": [
              "<Figure size 432x288 with 1 Axes>"
            ],
            "image/png": "[encoded data removed]"
          },
          "metadata": {}
        }
      ]
    },
    {
      "cell_type": "code",
      "source": [
        "X_test, y_test = test.as_numpy_iterator().next()"
      ],
      "metadata": {
        "id": "tddHOSNpHBkY"
      },
      "execution_count": 64,
      "outputs": []
    },
    {
      "cell_type": "code",
      "source": [
        "yhat = modelvar1.predict(X_test)"
      ],
      "metadata": {
        "id": "S9qkEfgWHG_U",
        "outputId": "eac1155d-1e5a-422a-8b3f-6e8499614e4a",
        "colab": {
          "base_uri": "https://localhost:8080/"
        }
      },
      "execution_count": 65,
      "outputs": [
        {
          "output_type": "stream",
          "name": "stdout",
          "text": [
            "1/1 [==============================] - 0s 358ms/step\n"
          ]
        }
      ]
    },
    {
      "cell_type": "code",
      "source": [
        "yhat = np.array(np.hstack(yhat), dtype=int)\n",
        "y_test = np.array(np.hstack(y_test), dtype=int)"
      ],
      "metadata": {
        "id": "5LmEzweTKjHg"
      },
      "execution_count": 66,
      "outputs": []
    },
    {
      "cell_type": "code",
      "source": [
        "print(np.hstack(yhat))\n",
        "print(y_test)"
      ],
      "metadata": {
        "id": "gw8RlIqXHKTk",
        "outputId": "ebe27ebb-9da3-4851-9e62-d9afc2ec1fdc",
        "colab": {
          "base_uri": "https://localhost:8080/"
        }
      },
      "execution_count": 67,
      "outputs": [
        {
          "output_type": "stream",
          "name": "stdout",
          "text": [
            "[0 0 0 1 1 1 1 1 1 0 1 1 0 1 1 1]\n",
            "[0 0 0 1 1 1 1 1 1 0 1 1 0 1 1 1]\n"
          ]
        }
      ]
    },
    {
      "cell_type": "markdown",
      "source": [
        "# PIERWSZY PODZIAŁ WYADJE SIĘ SESOWNY. TERAZ, GDY ODRZUCILIŚMY JUŻ TE NA 100% ZŁE, CZAS NA LEKKO SUBTELNIJSZY PODZIAŁ, CZYLI NA GOOD VS MID"
      ],
      "metadata": {
        "id": "2GFtb89AGzZT"
      }
    },
    {
      "cell_type": "code",
      "source": [
        "positives = tf.data.Dataset.zip((goodvar, tf.data.Dataset.from_tensor_slices(tf.ones(len(good)))))\n",
        "negatives = tf.data.Dataset.zip((midvar, tf.data.Dataset.from_tensor_slices(tf.zeros(len(good)))))\n",
        "datavar2 = positives.concatenate(negatives)\n",
        "datavar2.shuffle(1000).as_numpy_iterator().next()"
      ],
      "metadata": {
        "id": "DUICdY6mFEv8",
        "outputId": "f47035cb-fc57-40a8-d44f-c8fbde5f937b",
        "colab": {
          "base_uri": "https://localhost:8080/"
        }
      },
      "execution_count": 68,
      "outputs": [
        {
          "output_type": "execute_result",
          "data": {
            "text/plain": [
              "(b'/content/AudioFilesVar/Good/3.1.9.wav', 1.0)"
            ]
          },
          "metadata": {},
          "execution_count": 68
        }
      ]
    },
    {
      "cell_type": "code",
      "source": [
        "datavar2 = datavar2.map(preprocess)\n",
        "datavar2 = datavar2.cache()\n",
        "datavar2 = datavar2.shuffle(buffer_size=1000)\n",
        "datavar2 = datavar2.batch(16)\n",
        "datavar2 = datavar2.prefetch(8)"
      ],
      "metadata": {
        "id": "opzJJJgJMZFV",
        "outputId": "3c021512-590a-45b1-c8c0-2d53a40c7dc8",
        "colab": {
          "base_uri": "https://localhost:8080/"
        }
      },
      "execution_count": 69,
      "outputs": [
        {
          "output_type": "stream",
          "name": "stderr",
          "text": [
            "WARNING:tensorflow:Using a while_loop for converting IO>AudioResample cause there is no registered converter for this op.\n"
          ]
        }
      ]
    },
    {
      "cell_type": "code",
      "source": [
        "print(len(datavar2))\n",
        "train = datavar2.take(10)\n",
        "test = datavar2.skip(4).take(4)"
      ],
      "metadata": {
        "id": "-jCIuE7mMnnF",
        "outputId": "70856d42-bbbe-4610-b1f8-eba898287f50",
        "colab": {
          "base_uri": "https://localhost:8080/"
        }
      },
      "execution_count": 71,
      "outputs": [
        {
          "output_type": "stream",
          "name": "stdout",
          "text": [
            "14\n"
          ]
        }
      ]
    },
    {
      "cell_type": "code",
      "source": [
        "from tensorflow.keras.constraints import MaxNorm"
      ],
      "metadata": {
        "id": "bf9dWLJK23U_"
      },
      "execution_count": 72,
      "outputs": []
    },
    {
      "cell_type": "code",
      "source": [
        "modelvar2 = Sequential()\n",
        "modelvar2.add(Conv2D(16, (3,3), activation='relu', input_shape=(313, 128, 1)))\n",
        "modelvar2.add(Conv2D(16, (3,3), activation='relu'))\n",
        "modelvar2.add(Dropout(0.2))\n",
        "modelvar2.add(Flatten())\n",
        "modelvar2.add(Dense(128, activation='relu', kernel_constraint=MaxNorm(1.)))\n",
        "modelvar2.add(Dense(1, activation='sigmoid'))"
      ],
      "metadata": {
        "id": "cMiLSq6nMrnH"
      },
      "execution_count": 77,
      "outputs": []
    },
    {
      "cell_type": "code",
      "source": [
        "modelvar2.compile(\"Adam\", loss='BinaryCrossentropy', metrics=[tf.keras.metrics.Recall(), tf.keras.metrics.Precision()])"
      ],
      "metadata": {
        "id": "GojjzPx4Mv8m"
      },
      "execution_count": 78,
      "outputs": []
    },
    {
      "cell_type": "code",
      "source": [
        "modelvar2.summary()"
      ],
      "metadata": {
        "id": "3CmPZYMdMy8G",
        "outputId": "8341c7cc-7794-4bcc-b5b1-74d66d676d3c",
        "colab": {
          "base_uri": "https://localhost:8080/"
        }
      },
      "execution_count": 79,
      "outputs": [
        {
          "output_type": "stream",
          "name": "stdout",
          "text": [
            "Model: \"sequential_5\"\n",
            "_________________________________________________________________\n",
            " Layer (type)                Output Shape              Param #   \n",
            "=================================================================\n",
            " conv2d_10 (Conv2D)          (None, 311, 126, 16)      160       \n",
            "                                                                 \n",
            " conv2d_11 (Conv2D)          (None, 309, 124, 16)      2320      \n",
            "                                                                 \n",
            " dropout_1 (Dropout)         (None, 309, 124, 16)      0         \n",
            "                                                                 \n",
            " flatten_5 (Flatten)         (None, 613056)            0         \n",
            "                                                                 \n",
            " dense_10 (Dense)            (None, 128)               78471296  \n",
            "                                                                 \n",
            " dense_11 (Dense)            (None, 1)                 129       \n",
            "                                                                 \n",
            "=================================================================\n",
            "Total params: 78,473,905\n",
            "Trainable params: 78,473,905\n",
            "Non-trainable params: 0\n",
            "_________________________________________________________________\n"
          ]
        }
      ]
    },
    {
      "cell_type": "code",
      "source": [
        "histvar2 = modelvar2.fit(train, epochs=3, validation_data=test)"
      ],
      "metadata": {
        "id": "ZZXqoltzM1Wp",
        "outputId": "0224e69b-56e0-484d-c30f-90bb8b8afec9",
        "colab": {
          "base_uri": "https://localhost:8080/"
        }
      },
      "execution_count": 80,
      "outputs": [
        {
          "output_type": "stream",
          "name": "stdout",
          "text": [
            "Epoch 1/3\n",
            "10/10 [==============================] - 33s 3s/step - loss: 183.3426 - recall_5: 0.6333 - precision_5: 0.6404 - val_loss: 24.0791 - val_recall_5: 1.0000 - val_precision_5: 0.5000\n",
            "Epoch 2/3\n",
            "10/10 [==============================] - 30s 3s/step - loss: 6.8543 - recall_5: 0.6180 - precision_5: 0.6707 - val_loss: 0.2682 - val_recall_5: 1.0000 - val_precision_5: 0.9535\n",
            "Epoch 3/3\n",
            "10/10 [==============================] - 28s 3s/step - loss: 0.3387 - recall_5: 0.9787 - precision_5: 0.8932 - val_loss: 0.2515 - val_recall_5: 0.9211 - val_precision_5: 0.9722\n"
          ]
        }
      ]
    },
    {
      "cell_type": "code",
      "source": [
        "plt.title(\"Loss\")\n",
        "plt.plot(histvar2.history['loss'], 'r')\n",
        "plt.plot(histvar2.history['val_loss'],'b')\n",
        "plt.show()"
      ],
      "metadata": {
        "id": "qluHn8A8NCaC",
        "outputId": "8b4c0a48-aa7d-47e0-967a-4f71d67e99d1",
        "colab": {
          "base_uri": "https://localhost:8080/",
          "height": 284
        }
      },
      "execution_count": 81,
      "outputs": [
        {
          "output_type": "display_data",
          "data": {
            "text/plain": [
              "<Figure size 432x288 with 1 Axes>"
            ],
            "image/png": "[encoded data removed]"
          },
          "metadata": {}
        }
      ]
    },
    {
      "cell_type": "code",
      "source": [
        "plt.title(\"Precision\")\n",
        "plt.plot(histvar2.history['precision_5'], 'r')\n",
        "plt.plot(histvar2.history['val_precision_5'],'b')\n",
        "plt.show()"
      ],
      "metadata": {
        "id": "9ouHP3LMNLJF",
        "outputId": "a7af8618-9d0c-43dc-abef-bcb97d3717b1",
        "colab": {
          "base_uri": "https://localhost:8080/",
          "height": 284
        }
      },
      "execution_count": 82,
      "outputs": [
        {
          "output_type": "display_data",
          "data": {
            "text/plain": [
              "<Figure size 432x288 with 1 Axes>"
            ],
            "image/png": "[encoded data removed]"
          },
          "metadata": {}
        }
      ]
    },
    {
      "cell_type": "code",
      "source": [
        "plt.title(\"Recall\")\n",
        "plt.plot(histvar2.history['recall_5'], 'r')\n",
        "plt.plot(histvar2.history['val_recall_5'],'b')\n",
        "plt.show()"
      ],
      "metadata": {
        "id": "Lht383vKNNRv",
        "outputId": "44992cdc-b2a7-42bd-b02a-e833ace29fd4",
        "colab": {
          "base_uri": "https://localhost:8080/",
          "height": 284
        }
      },
      "execution_count": 83,
      "outputs": [
        {
          "output_type": "display_data",
          "data": {
            "text/plain": [
              "<Figure size 432x288 with 1 Axes>"
            ],
            "image/png": "[encoded data removed]"
          },
          "metadata": {}
        }
      ]
    },
    {
      "cell_type": "code",
      "source": [
        "X_test, y_test = test.as_numpy_iterator().next()"
      ],
      "metadata": {
        "id": "C2wGJ0DzNPXN"
      },
      "execution_count": 84,
      "outputs": []
    },
    {
      "cell_type": "code",
      "source": [
        "yhat = modelvar2.predict(X_test)"
      ],
      "metadata": {
        "id": "n1nNBiubNRms",
        "outputId": "43993ecb-8f67-4226-a166-6b7447001600",
        "colab": {
          "base_uri": "https://localhost:8080/"
        }
      },
      "execution_count": 85,
      "outputs": [
        {
          "output_type": "stream",
          "name": "stdout",
          "text": [
            "1/1 [==============================] - 0s 339ms/step\n"
          ]
        }
      ]
    },
    {
      "cell_type": "code",
      "source": [
        "yhat = np.array(np.hstack(yhat), dtype=int)\n",
        "y_test = np.array(np.hstack(y_test), dtype=int)"
      ],
      "metadata": {
        "id": "xI3gMBRuNTv5"
      },
      "execution_count": 86,
      "outputs": []
    },
    {
      "cell_type": "code",
      "source": [
        "print(np.hstack(yhat))\n",
        "print(y_test)     # troche beznadziejnie  - czyzby z=samym audio sie nei dalo?\n",
        "                  # dropout layer dodaje jakies 2/3 dobre trafienia\n",
        "                  # po dodainu normalizaci =1 do dense layaer znowu nic nie dziala"
      ],
      "metadata": {
        "id": "v78ZdsK8NWNm",
        "outputId": "f156fed2-a860-46b2-a7c5-6ccb56e1e0ec",
        "colab": {
          "base_uri": "https://localhost:8080/"
        }
      },
      "execution_count": 87,
      "outputs": [
        {
          "output_type": "stream",
          "name": "stdout",
          "text": [
            "[0 0 0 0 0 0 0 0 1 0 0 0 0 0 0 0]\n",
            "[1 0 0 0 1 0 1 0 1 0 1 0 0 0 1 1]\n"
          ]
        }
      ]
    }
  ]
}